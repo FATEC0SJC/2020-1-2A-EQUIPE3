{
 "cells": [
  {
   "cell_type": "markdown",
   "metadata": {},
   "source": [
    "### Importando as bibliotecas"
   ]
  },
  {
   "cell_type": "code",
   "execution_count": 26,
   "metadata": {},
   "outputs": [],
   "source": [
    "import pandas as pd\n",
    "import matplotlib.pyplot as plt\n",
    "import numpy as np\n",
    "\n",
    "#dataframe do o arquivo .xlsx\n",
    "df = pd.read_excel(\"STG_FNT_ITT.xlsx\")\n",
    "\n",
    "#pd.set_option('display.max_rows', None)"
   ]
  },
  {
   "cell_type": "markdown",
   "metadata": {},
   "source": [
    "### Exibindo os primeiros valores"
   ]
  },
  {
   "cell_type": "code",
   "execution_count": 27,
   "metadata": {
    "scrolled": true
   },
   "outputs": [
    {
     "data": {
      "text/html": [
       "<div>\n",
       "<style scoped>\n",
       "    .dataframe tbody tr th:only-of-type {\n",
       "        vertical-align: middle;\n",
       "    }\n",
       "\n",
       "    .dataframe tbody tr th {\n",
       "        vertical-align: top;\n",
       "    }\n",
       "\n",
       "    .dataframe thead th {\n",
       "        text-align: right;\n",
       "    }\n",
       "</style>\n",
       "<table border=\"1\" class=\"dataframe\">\n",
       "  <thead>\n",
       "    <tr style=\"text-align: right;\">\n",
       "      <th></th>\n",
       "      <th>ID_STG_FNT_ITT</th>\n",
       "      <th>NUM_CNPJ</th>\n",
       "      <th>NUM_CMP_CNPJ</th>\n",
       "      <th>NOM_COM</th>\n",
       "      <th>NOM_RAZ_SCL</th>\n",
       "      <th>DAT_INC_DBO</th>\n",
       "    </tr>\n",
       "  </thead>\n",
       "  <tbody>\n",
       "    <tr>\n",
       "      <th>0</th>\n",
       "      <td>137</td>\n",
       "      <td>2427884087</td>\n",
       "      <td>2805</td>\n",
       "      <td>NMN</td>\n",
       "      <td>NMN</td>\n",
       "      <td>2019-12-19 13:43:41.914</td>\n",
       "    </tr>\n",
       "    <tr>\n",
       "      <th>1</th>\n",
       "      <td>183</td>\n",
       "      <td>12182674487</td>\n",
       "      <td>2635</td>\n",
       "      <td>NMN</td>\n",
       "      <td>NMN</td>\n",
       "      <td>2019-12-19 13:43:41.914</td>\n",
       "    </tr>\n",
       "    <tr>\n",
       "      <th>2</th>\n",
       "      <td>197</td>\n",
       "      <td>16167328168</td>\n",
       "      <td>1802</td>\n",
       "      <td>NMN</td>\n",
       "      <td>NMN</td>\n",
       "      <td>2019-12-19 13:43:41.914</td>\n",
       "    </tr>\n",
       "    <tr>\n",
       "      <th>3</th>\n",
       "      <td>267</td>\n",
       "      <td>279925978</td>\n",
       "      <td>2329</td>\n",
       "      <td>NMN</td>\n",
       "      <td>NMN</td>\n",
       "      <td>2019-12-19 13:43:41.914</td>\n",
       "    </tr>\n",
       "    <tr>\n",
       "      <th>4</th>\n",
       "      <td>322</td>\n",
       "      <td>20579036860</td>\n",
       "      <td>2397</td>\n",
       "      <td>NMN</td>\n",
       "      <td>NMN</td>\n",
       "      <td>2019-12-19 13:43:41.914</td>\n",
       "    </tr>\n",
       "    <tr>\n",
       "      <th>...</th>\n",
       "      <td>...</td>\n",
       "      <td>...</td>\n",
       "      <td>...</td>\n",
       "      <td>...</td>\n",
       "      <td>...</td>\n",
       "      <td>...</td>\n",
       "    </tr>\n",
       "    <tr>\n",
       "      <th>1003</th>\n",
       "      <td>87</td>\n",
       "      <td>11901046588</td>\n",
       "      <td>1972</td>\n",
       "      <td>NMN</td>\n",
       "      <td>NMN</td>\n",
       "      <td>2019-12-19 13:43:41.914</td>\n",
       "    </tr>\n",
       "    <tr>\n",
       "      <th>1004</th>\n",
       "      <td>105</td>\n",
       "      <td>17765603364</td>\n",
       "      <td>13056</td>\n",
       "      <td>NMN</td>\n",
       "      <td>NMN</td>\n",
       "      <td>2019-12-19 13:43:41.914</td>\n",
       "    </tr>\n",
       "    <tr>\n",
       "      <th>1005</th>\n",
       "      <td>118</td>\n",
       "      <td>17765603364</td>\n",
       "      <td>165138</td>\n",
       "      <td>NMN</td>\n",
       "      <td>NMN</td>\n",
       "      <td>2019-12-19 13:43:41.914</td>\n",
       "    </tr>\n",
       "    <tr>\n",
       "      <th>1006</th>\n",
       "      <td>124</td>\n",
       "      <td>17765603364</td>\n",
       "      <td>238697</td>\n",
       "      <td>NMN</td>\n",
       "      <td>NMN</td>\n",
       "      <td>2019-12-19 13:43:41.914</td>\n",
       "    </tr>\n",
       "    <tr>\n",
       "      <th>1007</th>\n",
       "      <td>125</td>\n",
       "      <td>17765603364</td>\n",
       "      <td>250206</td>\n",
       "      <td>NMN</td>\n",
       "      <td>NMN</td>\n",
       "      <td>2019-12-19 13:43:41.914</td>\n",
       "    </tr>\n",
       "  </tbody>\n",
       "</table>\n",
       "<p>1008 rows × 6 columns</p>\n",
       "</div>"
      ],
      "text/plain": [
       "      ID_STG_FNT_ITT     NUM_CNPJ  NUM_CMP_CNPJ NOM_COM NOM_RAZ_SCL  \\\n",
       "0                137   2427884087          2805     NMN         NMN   \n",
       "1                183  12182674487          2635     NMN         NMN   \n",
       "2                197  16167328168          1802     NMN         NMN   \n",
       "3                267    279925978          2329     NMN         NMN   \n",
       "4                322  20579036860          2397     NMN         NMN   \n",
       "...              ...          ...           ...     ...         ...   \n",
       "1003              87  11901046588          1972     NMN         NMN   \n",
       "1004             105  17765603364         13056     NMN         NMN   \n",
       "1005             118  17765603364        165138     NMN         NMN   \n",
       "1006             124  17765603364        238697     NMN         NMN   \n",
       "1007             125  17765603364        250206     NMN         NMN   \n",
       "\n",
       "                  DAT_INC_DBO  \n",
       "0     2019-12-19 13:43:41.914  \n",
       "1     2019-12-19 13:43:41.914  \n",
       "2     2019-12-19 13:43:41.914  \n",
       "3     2019-12-19 13:43:41.914  \n",
       "4     2019-12-19 13:43:41.914  \n",
       "...                       ...  \n",
       "1003  2019-12-19 13:43:41.914  \n",
       "1004  2019-12-19 13:43:41.914  \n",
       "1005  2019-12-19 13:43:41.914  \n",
       "1006  2019-12-19 13:43:41.914  \n",
       "1007  2019-12-19 13:43:41.914  \n",
       "\n",
       "[1008 rows x 6 columns]"
      ]
     },
     "execution_count": 27,
     "metadata": {},
     "output_type": "execute_result"
    }
   ],
   "source": [
    "df"
   ]
  },
  {
   "cell_type": "markdown",
   "metadata": {},
   "source": [
    "#### Calculando a amostra a ser analisada (total)"
   ]
  },
  {
   "cell_type": "code",
   "execution_count": 92,
   "metadata": {},
   "outputs": [
    {
     "data": {
      "text/plain": [
       "1008"
      ]
     },
     "execution_count": 92,
     "metadata": {},
     "output_type": "execute_result"
    }
   ],
   "source": [
    "#id_qtd - IDs sempre serão diferentes de vazio\n",
    "id_qtd = df.query('(ID_STG_FNT_ITT != \"\")')['ID_STG_FNT_ITT'].count()\n",
    "id_qtd"
   ]
  },
  {
   "cell_type": "markdown",
   "metadata": {},
   "source": [
    "#### Valores únicos"
   ]
  },
  {
   "cell_type": "code",
   "execution_count": 105,
   "metadata": {},
   "outputs": [
    {
     "data": {
      "text/plain": [
       "1008"
      ]
     },
     "execution_count": 105,
     "metadata": {},
     "output_type": "execute_result"
    }
   ],
   "source": [
    "# lista sem valores de cnpj repetidos\n",
    "cnpjList = []\n",
    "for c in range (len(df.NUM_CNPJ)):\n",
    "    cnpj = str(df.NUM_CNPJ[c]) + str(df.NUM_CMP_CNPJ[c])\n",
    "    cnpjList.append(cnpj)\n",
    "\n",
    "# Eliminando os valores repetidos\n",
    "cnpjList = list(dict.fromkeys(cnpjList))\n",
    "len(cnpjList)"
   ]
  },
  {
   "cell_type": "markdown",
   "metadata": {},
   "source": [
    "#### Convertendo os campos da coluna NUM_CNPJ"
   ]
  },
  {
   "cell_type": "code",
   "execution_count": 106,
   "metadata": {},
   "outputs": [
    {
     "data": {
      "text/plain": [
       "ID_STG_FNT_ITT     int64\n",
       "NUM_CNPJ          object\n",
       "NUM_CMP_CNPJ       int64\n",
       "NOM_COM           object\n",
       "NOM_RAZ_SCL       object\n",
       "DAT_INC_DBO       object\n",
       "dtype: object"
      ]
     },
     "execution_count": 106,
     "metadata": {},
     "output_type": "execute_result"
    }
   ],
   "source": [
    "# para o laço for\n",
    "df.astype({'NUM_CNPJ': 'str'}).dtypes"
   ]
  },
  {
   "cell_type": "markdown",
   "metadata": {},
   "source": [
    "#### Listas para futuras consultas"
   ]
  },
  {
   "cell_type": "code",
   "execution_count": 107,
   "metadata": {},
   "outputs": [],
   "source": [
    "# validação\n",
    "cnpj_valido, cnpj_nao_valido = [], []\n",
    "\n",
    "# misc.\n",
    "cnpj_mais, cnpj_menos = [], []"
   ]
  },
  {
   "cell_type": "markdown",
   "metadata": {},
   "source": [
    "### Validando os CNPJs com 14 dígitos"
   ]
  },
  {
   "cell_type": "code",
   "execution_count": 108,
   "metadata": {},
   "outputs": [],
   "source": [
    "# válidos, inválidos, +14, -14\n",
    "for c in range (len(cnpjList)):\n",
    "    charCNPJ = len(cnpjList[c])\n",
    "    \n",
    "    if charCNPJ == 14: cnpj_valido.append(charCNPJ)\n",
    "    else: cnpj_nao_valido.append(charCNPJ)\n",
    "        \n",
    "    if charCNPJ > 14: cnpj_mais.append(charCNPJ)\n",
    "    if charCNPJ < 14: cnpj_menos.append(charCNPJ)"
   ]
  },
  {
   "cell_type": "markdown",
   "metadata": {},
   "source": [
    "#### Exatamente 14 caracteres"
   ]
  },
  {
   "cell_type": "code",
   "execution_count": 109,
   "metadata": {},
   "outputs": [
    {
     "data": {
      "text/plain": [
       "442"
      ]
     },
     "execution_count": 109,
     "metadata": {},
     "output_type": "execute_result"
    }
   ],
   "source": [
    "len(cnpj_valido)"
   ]
  },
  {
   "cell_type": "markdown",
   "metadata": {},
   "source": [
    "#### Inválidos  (+14, - 14)"
   ]
  },
  {
   "cell_type": "code",
   "execution_count": 110,
   "metadata": {},
   "outputs": [
    {
     "data": {
      "text/plain": [
       "566"
      ]
     },
     "execution_count": 110,
     "metadata": {},
     "output_type": "execute_result"
    }
   ],
   "source": [
    "len(cnpj_nao_valido)"
   ]
  },
  {
   "cell_type": "markdown",
   "metadata": {},
   "source": [
    "#### Mais de 14 caracteres"
   ]
  },
  {
   "cell_type": "code",
   "execution_count": 111,
   "metadata": {},
   "outputs": [
    {
     "data": {
      "text/plain": [
       "357"
      ]
     },
     "execution_count": 111,
     "metadata": {},
     "output_type": "execute_result"
    }
   ],
   "source": [
    "len(cnpj_mais)"
   ]
  },
  {
   "cell_type": "markdown",
   "metadata": {},
   "source": [
    "#### Menos de 14 Caracteres"
   ]
  },
  {
   "cell_type": "code",
   "execution_count": 112,
   "metadata": {},
   "outputs": [
    {
     "data": {
      "text/plain": [
       "209"
      ]
     },
     "execution_count": 112,
     "metadata": {},
     "output_type": "execute_result"
    }
   ],
   "source": [
    "len(cnpj_menos)"
   ]
  },
  {
   "cell_type": "markdown",
   "metadata": {},
   "source": [
    "### Cálculos para os gráficos"
   ]
  },
  {
   "cell_type": "markdown",
   "metadata": {},
   "source": [
    "#### Calculando as quantidades / porcentagens (válidos e não válidos)"
   ]
  },
  {
   "cell_type": "code",
   "execution_count": 113,
   "metadata": {},
   "outputs": [],
   "source": [
    "#CNPJs válidos\n",
    "op_vld = len(cnpj_valido)\n",
    "vld = (op_vld*100) / id_qtd\n",
    "\n",
    "#CNPJs não válidos\n",
    "op_nvld = len(cnpj_nao_valido)\n",
    "nvld = (op_nvld*100) / id_qtd"
   ]
  },
  {
   "cell_type": "markdown",
   "metadata": {},
   "source": [
    "#### Calculando as quantidades / porcentagens (Caracteres)"
   ]
  },
  {
   "cell_type": "code",
   "execution_count": 114,
   "metadata": {},
   "outputs": [],
   "source": [
    "# +14 Char\n",
    "op_mais14 = len(cnpj_mais)\n",
    "mais_14_char = (op_mais14*100) / id_qtd\n",
    "\n",
    "# -14 Char\n",
    "op_menos14 = len(cnpj_menos)\n",
    "menos_14_char = (op_menos14*100) / id_qtd"
   ]
  },
  {
   "cell_type": "markdown",
   "metadata": {},
   "source": [
    "### Gráfico 01 - CNPJ válido (14 caracteres) "
   ]
  },
  {
   "cell_type": "code",
   "execution_count": 115,
   "metadata": {},
   "outputs": [
    {
     "data": {
      "image/png": "[encoded data removed]",
      "text/plain": [
       "<Figure size 432x288 with 1 Axes>"
      ]
     },
     "metadata": {},
     "output_type": "display_data"
    }
   ],
   "source": [
    "labels = 'Válidos', 'Não válidos'\n",
    "sizes = [vld, nvld]\n",
    "explode = (0, 0.05)\n",
    "\n",
    "fig1, ax1 = plt.subplots()\n",
    "ax1.set_title('CNPJs válidos X CNPJs não válidos')\n",
    "ax1.pie(sizes, explode=explode, labels=labels, autopct='%1.1f%%',\n",
    "        shadow=True, startangle=90)\n",
    "ax1.axis('equal')\n",
    "\n",
    "plt.show()"
   ]
  },
  {
   "cell_type": "markdown",
   "metadata": {},
   "source": [
    "### Gráfico 02 - Qualidade geral"
   ]
  },
  {
   "cell_type": "code",
   "execution_count": 123,
   "metadata": {},
   "outputs": [
    {
     "data": {
      "image/png": "[encoded data removed]",
      "text/plain": [
       "<Figure size 432x288 with 1 Axes>"
      ]
     },
     "metadata": {},
     "output_type": "display_data"
    }
   ],
   "source": [
    "labels = '+14 Caracteres', '-14 Caracteres', '14 Caracteres (Correto)'\n",
    "sizes = [mais_14_char, menos_14_char, vld]\n",
    "explode = (0.03, 0.03, 0.03)\n",
    "\n",
    "fig1, ax1 = plt.subplots()\n",
    "ax1.set_title('Qualidade dos dados - Caracteres CNPJ')\n",
    "ax1.pie(sizes, explode=explode, labels=labels, autopct='%1.1f%%', shadow=True, startangle=90)\n",
    "ax1.axis('equal')\n",
    "\n",
    "plt.show()"
   ]
  },
  {
   "cell_type": "code",
   "execution_count": null,
   "metadata": {},
   "outputs": [],
   "source": []
  }
 ],
 "metadata": {
  "kernelspec": {
   "display_name": "Python 3",
   "language": "python",
   "name": "python3"
  },
  "language_info": {
   "codemirror_mode": {
    "name": "ipython",
    "version": 3
   },
   "file_extension": ".py",
   "mimetype": "text/x-python",
   "name": "python",
   "nbconvert_exporter": "python",
   "pygments_lexer": "ipython3",
   "version": "3.6.0"
  }
 },
 "nbformat": 4,
 "nbformat_minor": 2
}
