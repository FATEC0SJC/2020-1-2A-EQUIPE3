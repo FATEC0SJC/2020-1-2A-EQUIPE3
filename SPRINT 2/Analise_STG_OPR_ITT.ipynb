{
 "cells": [
  {
   "cell_type": "markdown",
   "metadata": {},
   "source": [
    "# Análise do DataFrame STG_OPR_ITT"
   ]
  },
  {
   "cell_type": "markdown",
   "metadata": {},
   "source": [
    "## Importando as bibliotecas."
   ]
  },
  {
   "cell_type": "code",
   "execution_count": 1,
   "metadata": {},
   "outputs": [],
   "source": [
    "import pandas as pd\n",
    "import matplotlib.pyplot as plt"
   ]
  },
  {
   "cell_type": "markdown",
   "metadata": {},
   "source": [
    "## Configurando o tamanho padrão dos gráficos."
   ]
  },
  {
   "cell_type": "code",
   "execution_count": 2,
   "metadata": {},
   "outputs": [],
   "source": [
    "plt.rcParams['figure.figsize'] = (11,7)"
   ]
  },
  {
   "cell_type": "markdown",
   "metadata": {},
   "source": [
    "## Carregando os dados necessários."
   ]
  },
  {
   "cell_type": "code",
   "execution_count": 3,
   "metadata": {},
   "outputs": [],
   "source": [
    "# DataFrame principal.\n",
    "dados_STG_OPR_ITT = pd.read_excel('STG_OPR_ITT.xlsx') # DataFrame de Operações.\n",
    "\n",
    "# DataFrame para validação (esse será usado para validar as modalidades do principal).\n",
    "dados_STG_MDL = pd.read_excel('STG_MDL.xlsx') # DataFrame das Modalidades."
   ]
  },
  {
   "cell_type": "markdown",
   "metadata": {},
   "source": [
    "## Descrição inicial do DataFrame STG_OPR_ITT."
   ]
  },
  {
   "cell_type": "code",
   "execution_count": 161,
   "metadata": {},
   "outputs": [
    {
     "name": "stdout",
     "output_type": "stream",
     "text": [
      "------------------------------------------------------------\n",
      "O DataFrame STG_OPR_ITT tem 891 linhas e 11 colunas.\n",
      "------------------------------------------------------------\n",
      "Contendo as colunas: \n",
      "0 - ID_STG_OPR_ITT\n",
      "1 - VLR_CTRD_CSC\n",
      "2 - QTD_PCL\n",
      "3 - VLR_SDO_DDR\n",
      "4 - QTD_CLI_CAD_POS\n",
      "5 - QTD_OPR\n",
      "6 - ID_FNT_ITT\n",
      "7 - ID_MDL\n",
      "8 - DES_TIP_PSS\n",
      "9 - DAT_RSS_FNT_ITT\n",
      "10 - DAT_INC_DBO\n",
      "------------------------------------------------------------\n"
     ]
    }
   ],
   "source": [
    "linhas = dados_STG_OPR_ITT.shape[0] # Pegando o total de linhas.\n",
    "colunas = dados_STG_OPR_ITT.shape[1] # Pegando o total de colunas.\n",
    "\n",
    "print('-' * 60)\n",
    "print(f'O DataFrame STG_OPR_ITT tem {linhas} linhas e {colunas} colunas.')\n",
    "print('-' * 60)\n",
    "\n",
    "print('Contendo as colunas: ')\n",
    "for index, coluna in enumerate(dados_STG_OPR_ITT.columns): # Pegando as colunas existentes nele.\n",
    "    print(f'{index} - {coluna}') # Mostrando-as.\n",
    "    \n",
    "print('-' * 60)"
   ]
  },
  {
   "cell_type": "markdown",
   "metadata": {},
   "source": [
    "## Repetindo o processo para o DataFrame STG_MDL."
   ]
  },
  {
   "cell_type": "code",
   "execution_count": 162,
   "metadata": {},
   "outputs": [
    {
     "name": "stdout",
     "output_type": "stream",
     "text": [
      "------------------------------------------------------------\n",
      "O DataFrame STG_MDL tem 19 linhas e 4 colunas.\n",
      "------------------------------------------------------------\n",
      "Contendo as colunas: \n",
      "0 - ID_STG_MDL\n",
      "1 - COD_MDL\n",
      "2 - DES_MDL\n",
      "3 - DAT_INC_DBO\n",
      "------------------------------------------------------------\n"
     ]
    }
   ],
   "source": [
    "linhas = dados_STG_MDL.shape[0]\n",
    "colunas = dados_STG_MDL.shape[1]\n",
    "\n",
    "print('-' * 60)\n",
    "print(f'O DataFrame STG_MDL tem {linhas} linhas e {colunas} colunas.')\n",
    "print('-' * 60)\n",
    "\n",
    "print('Contendo as colunas: ')\n",
    "for index, coluna in enumerate(dados_STG_MDL.columns): \n",
    "    print(f'{index} - {coluna}')\n",
    "    \n",
    "print('-' * 60)"
   ]
  },
  {
   "cell_type": "markdown",
   "metadata": {},
   "source": [
    "## Analisando a Integridade dos dados"
   ]
  },
  {
   "cell_type": "markdown",
   "metadata": {},
   "source": [
    " __Obs:__ Análise dividida em duas partes, pois o código C01 (consórcio) precisa de um tratamento especial.\n",
    " \n",
    " __-1ª parte:__ Acontecerá __SEM__ as linhas com o código C01 e também __SEM__ as colunas 'VLR_CTRD_CSC' e 'VLR_SDO_DDR'.\n",
    " \n",
    " __-2ª parte:__ Acontecerá __SOMENTE COM__ as linhas com o código C01 e também __COM__ todas as colunas."
   ]
  },
  {
   "cell_type": "markdown",
   "metadata": {},
   "source": [
    "### Analisando SEM o código C01 (consórcio)."
   ]
  },
  {
   "cell_type": "code",
   "execution_count": 163,
   "metadata": {},
   "outputs": [
    {
     "name": "stdout",
     "output_type": "stream",
     "text": [
      "------------------------------------------------------------\n",
      "Total de linhas 705\n",
      "------------------------------------------------------------\n"
     ]
    },
    {
     "data": {
      "text/html": [
       "<div>\n",
       "<style scoped>\n",
       "    .dataframe tbody tr th:only-of-type {\n",
       "        vertical-align: middle;\n",
       "    }\n",
       "\n",
       "    .dataframe tbody tr th {\n",
       "        vertical-align: top;\n",
       "    }\n",
       "\n",
       "    .dataframe thead th {\n",
       "        text-align: right;\n",
       "    }\n",
       "</style>\n",
       "<table border=\"1\" class=\"dataframe\">\n",
       "  <thead>\n",
       "    <tr style=\"text-align: right;\">\n",
       "      <th></th>\n",
       "      <th>COMPLETUDE (%)</th>\n",
       "    </tr>\n",
       "  </thead>\n",
       "  <tbody>\n",
       "    <tr>\n",
       "      <th>ID_STG_OPR_ITT</th>\n",
       "      <td>100.0</td>\n",
       "    </tr>\n",
       "    <tr>\n",
       "      <th>QTD_PCL</th>\n",
       "      <td>100.0</td>\n",
       "    </tr>\n",
       "    <tr>\n",
       "      <th>QTD_CLI_CAD_POS</th>\n",
       "      <td>100.0</td>\n",
       "    </tr>\n",
       "    <tr>\n",
       "      <th>QTD_OPR</th>\n",
       "      <td>100.0</td>\n",
       "    </tr>\n",
       "    <tr>\n",
       "      <th>ID_FNT_ITT</th>\n",
       "      <td>100.0</td>\n",
       "    </tr>\n",
       "    <tr>\n",
       "      <th>ID_MDL</th>\n",
       "      <td>100.0</td>\n",
       "    </tr>\n",
       "    <tr>\n",
       "      <th>DES_TIP_PSS</th>\n",
       "      <td>100.0</td>\n",
       "    </tr>\n",
       "    <tr>\n",
       "      <th>DAT_RSS_FNT_ITT</th>\n",
       "      <td>100.0</td>\n",
       "    </tr>\n",
       "    <tr>\n",
       "      <th>DAT_INC_DBO</th>\n",
       "      <td>100.0</td>\n",
       "    </tr>\n",
       "  </tbody>\n",
       "</table>\n",
       "</div>"
      ],
      "text/plain": [
       "                 COMPLETUDE (%)\n",
       "ID_STG_OPR_ITT            100.0\n",
       "QTD_PCL                   100.0\n",
       "QTD_CLI_CAD_POS           100.0\n",
       "QTD_OPR                   100.0\n",
       "ID_FNT_ITT                100.0\n",
       "ID_MDL                    100.0\n",
       "DES_TIP_PSS               100.0\n",
       "DAT_RSS_FNT_ITT           100.0\n",
       "DAT_INC_DBO               100.0"
      ]
     },
     "execution_count": 163,
     "metadata": {},
     "output_type": "execute_result"
    }
   ],
   "source": [
    "# Retirando as colunas VLR_CTRD_CSC e VLR_SDO_DDR para realizar a análise.\n",
    "temp = dados_STG_OPR_ITT.drop(columns = ['VLR_CTRD_CSC', 'VLR_SDO_DDR'])\n",
    "\n",
    "# Retirando as linhas com o ID_MDL igual a C01 (consórcio).\n",
    "temp = temp[temp['ID_MDL'] != 'C01'] \n",
    "analisar = temp.notnull().count() # Contando quantos não são nulos.\n",
    "\n",
    "total_linhas = temp.shape[0] # Pegando o total de linhas.\n",
    "print('-' * 60)\n",
    "print(f'Total de linhas {total_linhas}')\n",
    "print('-' * 60)\n",
    "\n",
    "# Colocando em um dicionário os nomes das colunas e seus respectivos totais de não nulos.\n",
    "# Também transformando os totais em porcentagem.\n",
    "situacao = {x[0] : (x[1] * 100 / total_linhas) for x in analisar.items()}\n",
    "\n",
    "# Criando um DataFrame com as informações recolhidas.\n",
    "situacao_plot = pd.DataFrame({'COMPLETUDE (%)' : [x for x in situacao.values()]},\n",
    "                             index = [x for x in situacao.keys()])\n",
    "situacao_plot # Mostrando-o."
   ]
  },
  {
   "cell_type": "markdown",
   "metadata": {},
   "source": [
    "#### Criando um gráfico."
   ]
  },
  {
   "cell_type": "code",
   "execution_count": 184,
   "metadata": {},
   "outputs": [
    {
     "data": {
      "image/png": "[encoded data removed]",
      "text/plain": [
       "<Figure size 720x432 with 1 Axes>"
      ]
     },
     "metadata": {
      "needs_background": "light"
     },
     "output_type": "display_data"
    }
   ],
   "source": [
    "situacao_plot.plot(kind = 'barh', edgecolor = 'black', legend = False, fontsize = 14, figsize = (10, 6))\n",
    "plt.title('Completude dos Dados', size = 25); # Adicionando um título.\n",
    "plt.xlabel('Porcentagem da Validação (%)', size = 15); # Nomeando o eixo X."
   ]
  },
  {
   "cell_type": "markdown",
   "metadata": {},
   "source": [
    "### Analisando SOMENTE COM o código C01 (consórcio)."
   ]
  },
  {
   "cell_type": "code",
   "execution_count": 165,
   "metadata": {},
   "outputs": [
    {
     "name": "stdout",
     "output_type": "stream",
     "text": [
      "------------------------------------------------------------\n",
      "Total de linhas 186\n",
      "------------------------------------------------------------\n"
     ]
    },
    {
     "data": {
      "text/html": [
       "<div>\n",
       "<style scoped>\n",
       "    .dataframe tbody tr th:only-of-type {\n",
       "        vertical-align: middle;\n",
       "    }\n",
       "\n",
       "    .dataframe tbody tr th {\n",
       "        vertical-align: top;\n",
       "    }\n",
       "\n",
       "    .dataframe thead th {\n",
       "        text-align: right;\n",
       "    }\n",
       "</style>\n",
       "<table border=\"1\" class=\"dataframe\">\n",
       "  <thead>\n",
       "    <tr style=\"text-align: right;\">\n",
       "      <th></th>\n",
       "      <th>COMPLETUDE (%)</th>\n",
       "    </tr>\n",
       "  </thead>\n",
       "  <tbody>\n",
       "    <tr>\n",
       "      <th>ID_STG_OPR_ITT</th>\n",
       "      <td>100.0</td>\n",
       "    </tr>\n",
       "    <tr>\n",
       "      <th>VLR_CTRD_CSC</th>\n",
       "      <td>100.0</td>\n",
       "    </tr>\n",
       "    <tr>\n",
       "      <th>QTD_PCL</th>\n",
       "      <td>100.0</td>\n",
       "    </tr>\n",
       "    <tr>\n",
       "      <th>VLR_SDO_DDR</th>\n",
       "      <td>100.0</td>\n",
       "    </tr>\n",
       "    <tr>\n",
       "      <th>QTD_CLI_CAD_POS</th>\n",
       "      <td>100.0</td>\n",
       "    </tr>\n",
       "    <tr>\n",
       "      <th>QTD_OPR</th>\n",
       "      <td>100.0</td>\n",
       "    </tr>\n",
       "    <tr>\n",
       "      <th>ID_FNT_ITT</th>\n",
       "      <td>100.0</td>\n",
       "    </tr>\n",
       "    <tr>\n",
       "      <th>ID_MDL</th>\n",
       "      <td>100.0</td>\n",
       "    </tr>\n",
       "    <tr>\n",
       "      <th>DES_TIP_PSS</th>\n",
       "      <td>100.0</td>\n",
       "    </tr>\n",
       "    <tr>\n",
       "      <th>DAT_RSS_FNT_ITT</th>\n",
       "      <td>100.0</td>\n",
       "    </tr>\n",
       "    <tr>\n",
       "      <th>DAT_INC_DBO</th>\n",
       "      <td>100.0</td>\n",
       "    </tr>\n",
       "  </tbody>\n",
       "</table>\n",
       "</div>"
      ],
      "text/plain": [
       "                 COMPLETUDE (%)\n",
       "ID_STG_OPR_ITT            100.0\n",
       "VLR_CTRD_CSC              100.0\n",
       "QTD_PCL                   100.0\n",
       "VLR_SDO_DDR               100.0\n",
       "QTD_CLI_CAD_POS           100.0\n",
       "QTD_OPR                   100.0\n",
       "ID_FNT_ITT                100.0\n",
       "ID_MDL                    100.0\n",
       "DES_TIP_PSS               100.0\n",
       "DAT_RSS_FNT_ITT           100.0\n",
       "DAT_INC_DBO               100.0"
      ]
     },
     "execution_count": 165,
     "metadata": {},
     "output_type": "execute_result"
    }
   ],
   "source": [
    "# Copiando o DataFrame principal.\n",
    "temp = dados_STG_OPR_ITT.copy()\n",
    "# Selecionando somente as linhas com o ID_MDL igual a C01 (consórcio).\n",
    "temp = temp[temp['ID_MDL'] == 'C01']\n",
    "analisar = temp.notnull().count() # Contando quantos não são nulos.\n",
    "\n",
    "total_linhas = temp.shape[0] # Pegando o total de linhas.\n",
    "print('-' * 60)\n",
    "print(f'Total de linhas {total_linhas}')\n",
    "print('-' * 60)\n",
    "\n",
    "# Colocando em um dicionário os nomes das colunas e seus respectivos totais de não nulos.\n",
    "# Também transformando os totais em porcentagem.\n",
    "situacao = {x[0] : (x[1] * 100 / total_linhas) for x in analisar.items()}\n",
    "\n",
    "# Criando um DataFrame com as informações recolhidas.\n",
    "situacao_plot = pd.DataFrame({'COMPLETUDE (%)' : [x for x in situacao.values()]},\n",
    "                             index = [x for x in situacao.keys()])\n",
    "situacao_plot # Mostrando-o."
   ]
  },
  {
   "cell_type": "markdown",
   "metadata": {},
   "source": [
    "#### Criando um gráfico"
   ]
  },
  {
   "cell_type": "code",
   "execution_count": 183,
   "metadata": {},
   "outputs": [
    {
     "data": {
      "image/png": "[encoded data removed]",
      "text/plain": [
       "<Figure size 720x432 with 1 Axes>"
      ]
     },
     "metadata": {
      "needs_background": "light"
     },
     "output_type": "display_data"
    }
   ],
   "source": [
    "situacao_plot.plot(kind = 'barh', edgecolor = 'black', legend = False, fontsize = 14, figsize = (10, 6))\n",
    "plt.title('Completude dos Dados', size = 25); # Adicionando um título.\n",
    "plt.xlabel('Porcentagem da Validação (%)', size = 15); # Nomeando o eixo X."
   ]
  },
  {
   "cell_type": "markdown",
   "metadata": {},
   "source": [
    "## Recência dos Dados"
   ]
  },
  {
   "cell_type": "code",
   "execution_count": 167,
   "metadata": {},
   "outputs": [
    {
     "data": {
      "text/html": [
       "<div>\n",
       "<style scoped>\n",
       "    .dataframe tbody tr th:only-of-type {\n",
       "        vertical-align: middle;\n",
       "    }\n",
       "\n",
       "    .dataframe tbody tr th {\n",
       "        vertical-align: top;\n",
       "    }\n",
       "\n",
       "    .dataframe thead th {\n",
       "        text-align: right;\n",
       "    }\n",
       "</style>\n",
       "<table border=\"1\" class=\"dataframe\">\n",
       "  <thead>\n",
       "    <tr style=\"text-align: right;\">\n",
       "      <th></th>\n",
       "      <th>DADOS</th>\n",
       "      <th>OCORRÊNCIA (%)</th>\n",
       "    </tr>\n",
       "  </thead>\n",
       "  <tbody>\n",
       "    <tr>\n",
       "      <th>DAT_RSS_FNT_ITT</th>\n",
       "      <td>2020-01-16</td>\n",
       "      <td>100.0</td>\n",
       "    </tr>\n",
       "    <tr>\n",
       "      <th>DAT_INC_DBO</th>\n",
       "      <td>2020-01-27 10:49:48.15</td>\n",
       "      <td>100.0</td>\n",
       "    </tr>\n",
       "  </tbody>\n",
       "</table>\n",
       "</div>"
      ],
      "text/plain": [
       "                                  DADOS  OCORRÊNCIA (%)\n",
       "DAT_RSS_FNT_ITT              2020-01-16           100.0\n",
       "DAT_INC_DBO      2020-01-27 10:49:48.15           100.0"
      ]
     },
     "execution_count": 167,
     "metadata": {},
     "output_type": "execute_result"
    }
   ],
   "source": [
    "analisar = dados_STG_OPR_ITT[['ID_STG_OPR_ITT', 'DAT_RSS_FNT_ITT']]\n",
    "DAT_RSS_FNT_ITT = analisar.groupby('DAT_RSS_FNT_ITT').count()\n",
    "\n",
    "analisar = dados_STG_OPR_ITT[['ID_STG_OPR_ITT', 'DAT_INC_DBO']]\n",
    "DAT_INC_DBO = analisar.groupby('DAT_INC_DBO').count()\n",
    "\n",
    "colunas = [DAT_RSS_FNT_ITT, DAT_INC_DBO]\n",
    "\n",
    "keys = []\n",
    "values = []\n",
    "\n",
    "for coluna in colunas:\n",
    "    for x in coluna['ID_STG_OPR_ITT'].to_dict().items():\n",
    "        keys.append(x[0])\n",
    "        values.append(x[1])\n",
    "    \n",
    "analise =  pd.DataFrame({'DADOS' : [x for x in keys], \n",
    "                         'OCORRÊNCIA (%)' : [x * 100 / analisar.shape[0] for x in values]}, \n",
    "                        index = ['DAT_RSS_FNT_ITT', 'DAT_INC_DBO'])\n",
    "\n",
    "analise"
   ]
  },
  {
   "cell_type": "markdown",
   "metadata": {},
   "source": [
    "## Convertendo os valores para acrescentar dois decimais."
   ]
  },
  {
   "cell_type": "code",
   "execution_count": 167,
   "metadata": {},
   "outputs": [
    {
     "name": "stdout",
     "output_type": "stream",
     "text": [
      "------------------------------------------------------------\n",
      "Coluna: VLR_CTRD_CSC\n",
      "\n",
      "R$           242311.68\n",
      "R$           837200.00\n",
      "R$          4534094.14\n",
      "R$          8318873.55\n",
      "R$          1687200.00\n",
      "R$           322324.54\n",
      "R$          5760952.64\n",
      "R$          5288794.11\n",
      "R$          4953127.77\n",
      "R$         67084212.43\n",
      "------------------------------------------------------------\n",
      "------------------------------------------------------------\n",
      "Coluna: VLR_SDO_DDR\n",
      "\n",
      "R$           147746.41\n",
      "R$           611460.76\n",
      "R$          3455692.91\n",
      "R$          3872932.36\n",
      "R$           471518.18\n",
      "R$           175493.07\n",
      "R$          3031500.68\n",
      "R$          2470154.82\n",
      "R$          2411390.67\n",
      "R$         59327136.31\n",
      "------------------------------------------------------------\n"
     ]
    }
   ],
   "source": [
    "colunas = ['VLR_CTRD_CSC', 'VLR_SDO_DDR'] # Colunas a serem convertidas.\n",
    "\n",
    "for coluna in colunas:\n",
    "    print('-' * 60 + f'\\nColuna: {coluna}\\n')\n",
    "    \n",
    "    for index, antes in enumerate(dados_STG_OPR_ITT[coluna].dropna()):\n",
    "        depois = antes * 0.01\n",
    "        dados_STG_OPR_ITT[coluna] = dados_STG_OPR_ITT[coluna].replace(antes, depois) # Trocando o velho pelo novo.\n",
    "\n",
    "        if index < 10: # Essa parte serve somente para limitar a amostragem dos valores.\n",
    "            print(f'R${depois:>20.2f}') # Mostrando alguns exemplos.\n",
    "    \n",
    "    print('-' * 60)"
   ]
  },
  {
   "cell_type": "markdown",
   "metadata": {},
   "source": [
    "## Validando as modalidades."
   ]
  },
  {
   "cell_type": "code",
   "execution_count": 168,
   "metadata": {},
   "outputs": [
    {
     "name": "stdout",
     "output_type": "stream",
     "text": [
      "------------------------------------------------------------\n",
      "Códigos para validar: \n",
      "A04 - B99 - B05 - B03 - C01 - A01 - A99 - B01 - A05 - B07 - F01 - B06 - G01\n",
      "------------------------------------------------------------\n",
      "A04 = OK\n",
      "B99 = OK\n",
      "B05 = OK\n",
      "B03 = OK\n",
      "C01 = OK\n",
      "A01 = OK\n",
      "A99 = OK\n",
      "B01 = OK\n",
      "A05 = OK\n",
      "B07 = OK\n",
      "F01 = OK\n",
      "B06 = OK\n",
      "G01 = OK\n",
      "------------------------------------------------------------\n"
     ]
    }
   ],
   "source": [
    "validar = dados_STG_OPR_ITT['ID_MDL'].unique() # Pegando somente os IDs únicos para ser validado.\n",
    "\n",
    "print('-' * 60)\n",
    "print(f'Códigos para validar: \\n' + ' - '.join(validar))\n",
    "print('-' * 60)\n",
    "\n",
    "# Atribuindo os códigos existentes em uma lista para poder usar o 'in'. \n",
    "codigos_existentes = [x for x in dados_STG_MDL['COD_MDL']] \n",
    "\n",
    "for codigo in validar:\n",
    "    print(codigo, end = ' = ')\n",
    "    \n",
    "    if codigo in codigos_existentes: # Verificando se o código existe nos existentes.\n",
    "        print('OK')\n",
    "    \n",
    "    else:\n",
    "        print('FAIL')\n",
    "        \n",
    "print('-' * 60)"
   ]
  },
  {
   "cell_type": "markdown",
   "metadata": {},
   "source": [
    "## Adicionando uma nova coluna (MDL_DESCRICAO) ao DataFrame principal."
   ]
  },
  {
   "cell_type": "markdown",
   "metadata": {},
   "source": [
    "### Primeiramente criando um dicionário com o código e sua respectiva descrição para facilitar o processo."
   ]
  },
  {
   "cell_type": "code",
   "execution_count": 169,
   "metadata": {},
   "outputs": [
    {
     "data": {
      "text/plain": [
       "{'E02': 'ADIANTAMENTO DEPOSITANTE',\n",
       " 'B99': 'OUTROS FINANCIAMENTOS',\n",
       " 'D01': 'CARTAO DE CREDITO',\n",
       " 'G01': 'TITULOS DESCONTADOS',\n",
       " 'A02': 'EMPRESTIMO - CAPITAL DE GIRO',\n",
       " 'A04': 'EMPRESTIMO - CREDITO PESSOAL',\n",
       " 'E01': 'CHEQUE ESPECIAL E CONTA GARANTIDA',\n",
       " 'B03': 'FINANCIAMENTO - IMOBILIARIOS SFH',\n",
       " 'B02': 'FINANCIAMENTO - IMPORTACAO  E EXPORTACAO',\n",
       " 'A05': 'EMPRESTIMO - MICROCREDITO',\n",
       " 'B04': 'FINANCIAMENTO - MICROCREDITO',\n",
       " 'B07': 'FINANCIAMENTO - ARREENDAMENTO',\n",
       " 'F01': 'AVAIS E FIANCASA HONRADOS',\n",
       " 'B06': 'FINANCIAMENTO - IMOBILIARIO (OUTROS)',\n",
       " 'C01': 'CONSORCIO',\n",
       " 'A01': 'EMPRESTIMO - CONSIGNADO',\n",
       " 'B05': 'FINANCIAMENTO - AQUISICAO DE BENS (VEICULOS)',\n",
       " 'A99': 'OUTROS EMPRESTIMOS',\n",
       " 'B01': 'FINANCIAMENTO - RURAL E AGROINDUSTRIAL'}"
      ]
     },
     "execution_count": 169,
     "metadata": {},
     "output_type": "execute_result"
    }
   ],
   "source": [
    "new = dados_STG_MDL[['COD_MDL', 'DES_MDL']] # Escolhendo as colunas necessárias.\n",
    "dictionary = new.set_index('COD_MDL').T.to_dict('list') # Convertendo em um dicionário (valores em lista).\n",
    "\n",
    "for key, value in dictionary.items():\n",
    "    dictionary[key] = str(value).strip(\"['']\") # Convertendo os valores (em lista) para string.\n",
    "    \n",
    "dictionary # Mostrando o dicionário final."
   ]
  },
  {
   "cell_type": "markdown",
   "metadata": {},
   "source": [
    "### Linha por linha atribuindo ao respectivo código a sua descrição."
   ]
  },
  {
   "cell_type": "code",
   "execution_count": 170,
   "metadata": {},
   "outputs": [
    {
     "data": {
      "text/html": [
       "<div>\n",
       "<style scoped>\n",
       "    .dataframe tbody tr th:only-of-type {\n",
       "        vertical-align: middle;\n",
       "    }\n",
       "\n",
       "    .dataframe tbody tr th {\n",
       "        vertical-align: top;\n",
       "    }\n",
       "\n",
       "    .dataframe thead th {\n",
       "        text-align: right;\n",
       "    }\n",
       "</style>\n",
       "<table border=\"1\" class=\"dataframe\">\n",
       "  <thead>\n",
       "    <tr style=\"text-align: right;\">\n",
       "      <th></th>\n",
       "      <th>ID_MDL</th>\n",
       "      <th>MDL_DESCRICAO</th>\n",
       "    </tr>\n",
       "  </thead>\n",
       "  <tbody>\n",
       "    <tr>\n",
       "      <th>0</th>\n",
       "      <td>A04</td>\n",
       "      <td>EMPRESTIMO - CREDITO PESSOAL</td>\n",
       "    </tr>\n",
       "    <tr>\n",
       "      <th>1</th>\n",
       "      <td>B99</td>\n",
       "      <td>OUTROS FINANCIAMENTOS</td>\n",
       "    </tr>\n",
       "    <tr>\n",
       "      <th>2</th>\n",
       "      <td>B05</td>\n",
       "      <td>FINANCIAMENTO - AQUISICAO DE BENS (VEICULOS)</td>\n",
       "    </tr>\n",
       "    <tr>\n",
       "      <th>3</th>\n",
       "      <td>B03</td>\n",
       "      <td>FINANCIAMENTO - IMOBILIARIOS SFH</td>\n",
       "    </tr>\n",
       "    <tr>\n",
       "      <th>4</th>\n",
       "      <td>B03</td>\n",
       "      <td>FINANCIAMENTO - IMOBILIARIOS SFH</td>\n",
       "    </tr>\n",
       "  </tbody>\n",
       "</table>\n",
       "</div>"
      ],
      "text/plain": [
       "  ID_MDL                                 MDL_DESCRICAO\n",
       "0    A04                  EMPRESTIMO - CREDITO PESSOAL\n",
       "1    B99                         OUTROS FINANCIAMENTOS\n",
       "2    B05  FINANCIAMENTO - AQUISICAO DE BENS (VEICULOS)\n",
       "3    B03              FINANCIAMENTO - IMOBILIARIOS SFH\n",
       "4    B03              FINANCIAMENTO - IMOBILIARIOS SFH"
      ]
     },
     "execution_count": 170,
     "metadata": {},
     "output_type": "execute_result"
    }
   ],
   "source": [
    "dados_STG_OPR_ITT['MDL_DESCRICAO'] = [dictionary[resp] for resp in dados_STG_OPR_ITT['ID_MDL']]\n",
    "dados_STG_OPR_ITT[['ID_MDL', 'MDL_DESCRICAO']].head()"
   ]
  },
  {
   "cell_type": "markdown",
   "metadata": {},
   "source": [
    "## Analisando o total de operações por modalidades."
   ]
  },
  {
   "cell_type": "code",
   "execution_count": 171,
   "metadata": {},
   "outputs": [
    {
     "data": {
      "text/html": [
       "<div>\n",
       "<style scoped>\n",
       "    .dataframe tbody tr th:only-of-type {\n",
       "        vertical-align: middle;\n",
       "    }\n",
       "\n",
       "    .dataframe tbody tr th {\n",
       "        vertical-align: top;\n",
       "    }\n",
       "\n",
       "    .dataframe thead th {\n",
       "        text-align: right;\n",
       "    }\n",
       "</style>\n",
       "<table border=\"1\" class=\"dataframe\">\n",
       "  <thead>\n",
       "    <tr style=\"text-align: right;\">\n",
       "      <th></th>\n",
       "      <th>ID_STG_OPR_ITT</th>\n",
       "    </tr>\n",
       "    <tr>\n",
       "      <th>MDL_DESCRICAO</th>\n",
       "      <th></th>\n",
       "    </tr>\n",
       "  </thead>\n",
       "  <tbody>\n",
       "    <tr>\n",
       "      <th>FINANCIAMENTO - IMOBILIARIOS SFH</th>\n",
       "      <td>214</td>\n",
       "    </tr>\n",
       "    <tr>\n",
       "      <th>CONSORCIO</th>\n",
       "      <td>186</td>\n",
       "    </tr>\n",
       "    <tr>\n",
       "      <th>EMPRESTIMO - CONSIGNADO</th>\n",
       "      <td>122</td>\n",
       "    </tr>\n",
       "    <tr>\n",
       "      <th>EMPRESTIMO - CREDITO PESSOAL</th>\n",
       "      <td>112</td>\n",
       "    </tr>\n",
       "    <tr>\n",
       "      <th>OUTROS FINANCIAMENTOS</th>\n",
       "      <td>104</td>\n",
       "    </tr>\n",
       "    <tr>\n",
       "      <th>FINANCIAMENTO - AQUISICAO DE BENS (VEICULOS)</th>\n",
       "      <td>71</td>\n",
       "    </tr>\n",
       "    <tr>\n",
       "      <th>OUTROS EMPRESTIMOS</th>\n",
       "      <td>35</td>\n",
       "    </tr>\n",
       "    <tr>\n",
       "      <th>EMPRESTIMO - MICROCREDITO</th>\n",
       "      <td>20</td>\n",
       "    </tr>\n",
       "    <tr>\n",
       "      <th>FINANCIAMENTO - RURAL E AGROINDUSTRIAL</th>\n",
       "      <td>19</td>\n",
       "    </tr>\n",
       "    <tr>\n",
       "      <th>FINANCIAMENTO - IMOBILIARIO (OUTROS)</th>\n",
       "      <td>4</td>\n",
       "    </tr>\n",
       "    <tr>\n",
       "      <th>FINANCIAMENTO - ARREENDAMENTO</th>\n",
       "      <td>2</td>\n",
       "    </tr>\n",
       "    <tr>\n",
       "      <th>AVAIS E FIANCASA HONRADOS</th>\n",
       "      <td>1</td>\n",
       "    </tr>\n",
       "    <tr>\n",
       "      <th>TITULOS DESCONTADOS</th>\n",
       "      <td>1</td>\n",
       "    </tr>\n",
       "  </tbody>\n",
       "</table>\n",
       "</div>"
      ],
      "text/plain": [
       "                                              ID_STG_OPR_ITT\n",
       "MDL_DESCRICAO                                               \n",
       "FINANCIAMENTO - IMOBILIARIOS SFH                         214\n",
       "CONSORCIO                                                186\n",
       "EMPRESTIMO - CONSIGNADO                                  122\n",
       "EMPRESTIMO - CREDITO PESSOAL                             112\n",
       "OUTROS FINANCIAMENTOS                                    104\n",
       "FINANCIAMENTO - AQUISICAO DE BENS (VEICULOS)              71\n",
       "OUTROS EMPRESTIMOS                                        35\n",
       "EMPRESTIMO - MICROCREDITO                                 20\n",
       "FINANCIAMENTO - RURAL E AGROINDUSTRIAL                    19\n",
       "FINANCIAMENTO - IMOBILIARIO (OUTROS)                       4\n",
       "FINANCIAMENTO - ARREENDAMENTO                              2\n",
       "AVAIS E FIANCASA HONRADOS                                  1\n",
       "TITULOS DESCONTADOS                                        1"
      ]
     },
     "execution_count": 171,
     "metadata": {},
     "output_type": "execute_result"
    }
   ],
   "source": [
    "analisar = dados_STG_OPR_ITT[['MDL_DESCRICAO', 'ID_STG_OPR_ITT']]\n",
    "\n",
    "mdl_mais_usadas = analisar.groupby('MDL_DESCRICAO').count().sort_values(by = 'ID_STG_OPR_ITT', ascending = False)\n",
    "mdl_mais_usadas"
   ]
  },
  {
   "cell_type": "markdown",
   "metadata": {},
   "source": [
    "### Criando um gráfico."
   ]
  },
  {
   "cell_type": "code",
   "execution_count": 172,
   "metadata": {},
   "outputs": [
    {
     "data": {
      "text/plain": [
       "<matplotlib.legend.Legend at 0x7f05f542fe10>"
      ]
     },
     "execution_count": 172,
     "metadata": {},
     "output_type": "execute_result"
    },
    {
     "data": {
      "image/png": "[encoded data removed]",
      "text/plain": [
       "<Figure size 792x504 with 1 Axes>"
      ]
     },
     "metadata": {
      "needs_background": "light"
     },
     "output_type": "display_data"
    }
   ],
   "source": [
    "mdl_mais_usadas.plot(kind = 'barh', edgecolor='black', fontsize = 13)\n",
    "plt.title(\"Modalidades Mais Usadas\", size=25); # Adicionando um título.\n",
    "plt.xlabel('', size=15); # Nomeando o eixo X.\n",
    "plt.ylabel('', size=15); # Nomeando o eixo Y.\n",
    "plt.legend(['Quantidade'], fontsize = 'large', edgecolor = 'black') # Configurando a legenda."
   ]
  },
  {
   "cell_type": "markdown",
   "metadata": {},
   "source": [
    "## Analisando a soma das operações por modalidades."
   ]
  },
  {
   "cell_type": "code",
   "execution_count": 173,
   "metadata": {},
   "outputs": [
    {
     "data": {
      "text/html": [
       "<div>\n",
       "<style scoped>\n",
       "    .dataframe tbody tr th:only-of-type {\n",
       "        vertical-align: middle;\n",
       "    }\n",
       "\n",
       "    .dataframe tbody tr th {\n",
       "        vertical-align: top;\n",
       "    }\n",
       "\n",
       "    .dataframe thead th {\n",
       "        text-align: right;\n",
       "    }\n",
       "</style>\n",
       "<table border=\"1\" class=\"dataframe\">\n",
       "  <thead>\n",
       "    <tr style=\"text-align: right;\">\n",
       "      <th></th>\n",
       "      <th>QTD_OPR</th>\n",
       "    </tr>\n",
       "    <tr>\n",
       "      <th>MDL_DESCRICAO</th>\n",
       "      <th></th>\n",
       "    </tr>\n",
       "  </thead>\n",
       "  <tbody>\n",
       "    <tr>\n",
       "      <th>EMPRESTIMO - CREDITO PESSOAL</th>\n",
       "      <td>411896</td>\n",
       "    </tr>\n",
       "    <tr>\n",
       "      <th>EMPRESTIMO - CONSIGNADO</th>\n",
       "      <td>181711</td>\n",
       "    </tr>\n",
       "    <tr>\n",
       "      <th>OUTROS FINANCIAMENTOS</th>\n",
       "      <td>115480</td>\n",
       "    </tr>\n",
       "    <tr>\n",
       "      <th>FINANCIAMENTO - AQUISICAO DE BENS (VEICULOS)</th>\n",
       "      <td>30366</td>\n",
       "    </tr>\n",
       "    <tr>\n",
       "      <th>OUTROS EMPRESTIMOS</th>\n",
       "      <td>15067</td>\n",
       "    </tr>\n",
       "    <tr>\n",
       "      <th>CONSORCIO</th>\n",
       "      <td>12509</td>\n",
       "    </tr>\n",
       "    <tr>\n",
       "      <th>TITULOS DESCONTADOS</th>\n",
       "      <td>11850</td>\n",
       "    </tr>\n",
       "    <tr>\n",
       "      <th>FINANCIAMENTO - IMOBILIARIOS SFH</th>\n",
       "      <td>4331</td>\n",
       "    </tr>\n",
       "    <tr>\n",
       "      <th>EMPRESTIMO - MICROCREDITO</th>\n",
       "      <td>1482</td>\n",
       "    </tr>\n",
       "    <tr>\n",
       "      <th>FINANCIAMENTO - RURAL E AGROINDUSTRIAL</th>\n",
       "      <td>945</td>\n",
       "    </tr>\n",
       "    <tr>\n",
       "      <th>FINANCIAMENTO - IMOBILIARIO (OUTROS)</th>\n",
       "      <td>11</td>\n",
       "    </tr>\n",
       "    <tr>\n",
       "      <th>FINANCIAMENTO - ARREENDAMENTO</th>\n",
       "      <td>4</td>\n",
       "    </tr>\n",
       "    <tr>\n",
       "      <th>AVAIS E FIANCASA HONRADOS</th>\n",
       "      <td>2</td>\n",
       "    </tr>\n",
       "  </tbody>\n",
       "</table>\n",
       "</div>"
      ],
      "text/plain": [
       "                                              QTD_OPR\n",
       "MDL_DESCRICAO                                        \n",
       "EMPRESTIMO - CREDITO PESSOAL                   411896\n",
       "EMPRESTIMO - CONSIGNADO                        181711\n",
       "OUTROS FINANCIAMENTOS                          115480\n",
       "FINANCIAMENTO - AQUISICAO DE BENS (VEICULOS)    30366\n",
       "OUTROS EMPRESTIMOS                              15067\n",
       "CONSORCIO                                       12509\n",
       "TITULOS DESCONTADOS                             11850\n",
       "FINANCIAMENTO - IMOBILIARIOS SFH                 4331\n",
       "EMPRESTIMO - MICROCREDITO                        1482\n",
       "FINANCIAMENTO - RURAL E AGROINDUSTRIAL            945\n",
       "FINANCIAMENTO - IMOBILIARIO (OUTROS)               11\n",
       "FINANCIAMENTO - ARREENDAMENTO                       4\n",
       "AVAIS E FIANCASA HONRADOS                           2"
      ]
     },
     "execution_count": 173,
     "metadata": {},
     "output_type": "execute_result"
    }
   ],
   "source": [
    "analisar = dados_STG_OPR_ITT[['MDL_DESCRICAO', 'QTD_OPR']].dropna()\n",
    "\n",
    "soma_opr_por_mdl = analisar.groupby('MDL_DESCRICAO').sum().sort_values(by = 'QTD_OPR', ascending = False)\n",
    "soma_opr_por_mdl"
   ]
  },
  {
   "cell_type": "markdown",
   "metadata": {},
   "source": [
    "### Criando um gráfico."
   ]
  },
  {
   "cell_type": "code",
   "execution_count": 179,
   "metadata": {},
   "outputs": [
    {
     "data": {
      "text/plain": [
       "<matplotlib.legend.Legend at 0x7f05f53f4610>"
      ]
     },
     "execution_count": 179,
     "metadata": {},
     "output_type": "execute_result"
    },
    {
     "data": {
      "image/png": "[encoded data removed]",
      "text/plain": [
       "<Figure size 792x504 with 1 Axes>"
      ]
     },
     "metadata": {
      "needs_background": "light"
     },
     "output_type": "display_data"
    }
   ],
   "source": [
    "soma_opr_por_mdl.plot(kind = 'barh', edgecolor='black', fontsize = 13)\n",
    "plt.title(\"Soma das Operações por Modalidade\", size=25); # Adicionando um título.\n",
    "plt.xlabel('', size=15); # Nomeando o eixo X.\n",
    "plt.ylabel('', size=15); # Nomeando o eixo Y.\n",
    "plt.legend(['Quantidade'], fontsize = 'large', edgecolor = 'black') # Configurando a legenda."
   ]
  },
  {
   "cell_type": "markdown",
   "metadata": {},
   "source": [
    "## Analisando a soma das parcelas por modalidades."
   ]
  },
  {
   "cell_type": "code",
   "execution_count": 175,
   "metadata": {},
   "outputs": [
    {
     "data": {
      "text/html": [
       "<div>\n",
       "<style scoped>\n",
       "    .dataframe tbody tr th:only-of-type {\n",
       "        vertical-align: middle;\n",
       "    }\n",
       "\n",
       "    .dataframe tbody tr th {\n",
       "        vertical-align: top;\n",
       "    }\n",
       "\n",
       "    .dataframe thead th {\n",
       "        text-align: right;\n",
       "    }\n",
       "</style>\n",
       "<table border=\"1\" class=\"dataframe\">\n",
       "  <thead>\n",
       "    <tr style=\"text-align: right;\">\n",
       "      <th></th>\n",
       "      <th>QTD_PCL</th>\n",
       "    </tr>\n",
       "    <tr>\n",
       "      <th>MDL_DESCRICAO</th>\n",
       "      <th></th>\n",
       "    </tr>\n",
       "  </thead>\n",
       "  <tbody>\n",
       "    <tr>\n",
       "      <th>FINANCIAMENTO - IMOBILIARIOS SFH</th>\n",
       "      <td>49467</td>\n",
       "    </tr>\n",
       "    <tr>\n",
       "      <th>CONSORCIO</th>\n",
       "      <td>20139</td>\n",
       "    </tr>\n",
       "    <tr>\n",
       "      <th>EMPRESTIMO - CONSIGNADO</th>\n",
       "      <td>7563</td>\n",
       "    </tr>\n",
       "    <tr>\n",
       "      <th>EMPRESTIMO - CREDITO PESSOAL</th>\n",
       "      <td>7447</td>\n",
       "    </tr>\n",
       "    <tr>\n",
       "      <th>OUTROS FINANCIAMENTOS</th>\n",
       "      <td>5522</td>\n",
       "    </tr>\n",
       "    <tr>\n",
       "      <th>FINANCIAMENTO - AQUISICAO DE BENS (VEICULOS)</th>\n",
       "      <td>2583</td>\n",
       "    </tr>\n",
       "    <tr>\n",
       "      <th>OUTROS EMPRESTIMOS</th>\n",
       "      <td>630</td>\n",
       "    </tr>\n",
       "    <tr>\n",
       "      <th>EMPRESTIMO - MICROCREDITO</th>\n",
       "      <td>287</td>\n",
       "    </tr>\n",
       "    <tr>\n",
       "      <th>FINANCIAMENTO - RURAL E AGROINDUSTRIAL</th>\n",
       "      <td>230</td>\n",
       "    </tr>\n",
       "    <tr>\n",
       "      <th>FINANCIAMENTO - ARREENDAMENTO</th>\n",
       "      <td>108</td>\n",
       "    </tr>\n",
       "    <tr>\n",
       "      <th>FINANCIAMENTO - IMOBILIARIO (OUTROS)</th>\n",
       "      <td>100</td>\n",
       "    </tr>\n",
       "    <tr>\n",
       "      <th>AVAIS E FIANCASA HONRADOS</th>\n",
       "      <td>2</td>\n",
       "    </tr>\n",
       "    <tr>\n",
       "      <th>TITULOS DESCONTADOS</th>\n",
       "      <td>1</td>\n",
       "    </tr>\n",
       "  </tbody>\n",
       "</table>\n",
       "</div>"
      ],
      "text/plain": [
       "                                              QTD_PCL\n",
       "MDL_DESCRICAO                                        \n",
       "FINANCIAMENTO - IMOBILIARIOS SFH                49467\n",
       "CONSORCIO                                       20139\n",
       "EMPRESTIMO - CONSIGNADO                          7563\n",
       "EMPRESTIMO - CREDITO PESSOAL                     7447\n",
       "OUTROS FINANCIAMENTOS                            5522\n",
       "FINANCIAMENTO - AQUISICAO DE BENS (VEICULOS)     2583\n",
       "OUTROS EMPRESTIMOS                                630\n",
       "EMPRESTIMO - MICROCREDITO                         287\n",
       "FINANCIAMENTO - RURAL E AGROINDUSTRIAL            230\n",
       "FINANCIAMENTO - ARREENDAMENTO                     108\n",
       "FINANCIAMENTO - IMOBILIARIO (OUTROS)              100\n",
       "AVAIS E FIANCASA HONRADOS                           2\n",
       "TITULOS DESCONTADOS                                 1"
      ]
     },
     "execution_count": 175,
     "metadata": {},
     "output_type": "execute_result"
    }
   ],
   "source": [
    "analisar = dados_STG_OPR_ITT[['MDL_DESCRICAO', 'QTD_PCL']].dropna()\n",
    "\n",
    "soma_parcela_por_mdl = analisar.groupby('MDL_DESCRICAO').sum().sort_values(by = 'QTD_PCL', ascending = False)\n",
    "soma_parcela_por_mdl"
   ]
  },
  {
   "cell_type": "markdown",
   "metadata": {},
   "source": [
    "### Criando um gráfico."
   ]
  },
  {
   "cell_type": "code",
   "execution_count": 180,
   "metadata": {},
   "outputs": [
    {
     "data": {
      "text/plain": [
       "<matplotlib.legend.Legend at 0x7f05f53df610>"
      ]
     },
     "execution_count": 180,
     "metadata": {},
     "output_type": "execute_result"
    },
    {
     "data": {
      "image/png": "[encoded data removed]",
      "text/plain": [
       "<Figure size 792x504 with 1 Axes>"
      ]
     },
     "metadata": {
      "needs_background": "light"
     },
     "output_type": "display_data"
    }
   ],
   "source": [
    "soma_parcela_por_mdl.plot(kind = 'barh', edgecolor='black', fontsize = 13)\n",
    "plt.title(\"Soma das Parcelas por Modalidade\", size=25); # Adicionando um título.\n",
    "plt.xlabel('', size=15); # Nomeando o eixo X.\n",
    "plt.ylabel('', size=15); # Nomeando o eixo Y.\n",
    "plt.legend(['Quantidade'], fontsize = 'large', edgecolor = 'black') # Configurando a legenda."
   ]
  },
  {
   "cell_type": "markdown",
   "metadata": {},
   "source": [
    "## Adicionando uma nova coluna (VLR_PAGO) ao DataFrame temporário."
   ]
  },
  {
   "cell_type": "markdown",
   "metadata": {},
   "source": [
    "### Primeiramente criando uma lista com o resultado da subtração."
   ]
  },
  {
   "cell_type": "code",
   "execution_count": 177,
   "metadata": {},
   "outputs": [
    {
     "data": {
      "text/html": [
       "<div>\n",
       "<style scoped>\n",
       "    .dataframe tbody tr th:only-of-type {\n",
       "        vertical-align: middle;\n",
       "    }\n",
       "\n",
       "    .dataframe tbody tr th {\n",
       "        vertical-align: top;\n",
       "    }\n",
       "\n",
       "    .dataframe thead th {\n",
       "        text-align: right;\n",
       "    }\n",
       "</style>\n",
       "<table border=\"1\" class=\"dataframe\">\n",
       "  <thead>\n",
       "    <tr style=\"text-align: right;\">\n",
       "      <th></th>\n",
       "      <th>VLR_CTRD_CSC</th>\n",
       "      <th>VLR_SDO_DDR</th>\n",
       "      <th>VLR_PAGO</th>\n",
       "    </tr>\n",
       "  </thead>\n",
       "  <tbody>\n",
       "    <tr>\n",
       "      <th>6</th>\n",
       "      <td>242311.68</td>\n",
       "      <td>147746.41</td>\n",
       "      <td>94565.27</td>\n",
       "    </tr>\n",
       "    <tr>\n",
       "      <th>14</th>\n",
       "      <td>837200.00</td>\n",
       "      <td>611460.76</td>\n",
       "      <td>225739.24</td>\n",
       "    </tr>\n",
       "    <tr>\n",
       "      <th>18</th>\n",
       "      <td>4534094.14</td>\n",
       "      <td>3455692.91</td>\n",
       "      <td>1078401.23</td>\n",
       "    </tr>\n",
       "    <tr>\n",
       "      <th>19</th>\n",
       "      <td>8318873.55</td>\n",
       "      <td>3872932.36</td>\n",
       "      <td>4445941.19</td>\n",
       "    </tr>\n",
       "    <tr>\n",
       "      <th>22</th>\n",
       "      <td>1687200.00</td>\n",
       "      <td>471518.18</td>\n",
       "      <td>1215681.82</td>\n",
       "    </tr>\n",
       "    <tr>\n",
       "      <th>31</th>\n",
       "      <td>322324.54</td>\n",
       "      <td>175493.07</td>\n",
       "      <td>146831.47</td>\n",
       "    </tr>\n",
       "    <tr>\n",
       "      <th>34</th>\n",
       "      <td>5760952.64</td>\n",
       "      <td>3031500.68</td>\n",
       "      <td>2729451.96</td>\n",
       "    </tr>\n",
       "    <tr>\n",
       "      <th>37</th>\n",
       "      <td>5288794.11</td>\n",
       "      <td>2470154.82</td>\n",
       "      <td>2818639.29</td>\n",
       "    </tr>\n",
       "    <tr>\n",
       "      <th>38</th>\n",
       "      <td>4953127.77</td>\n",
       "      <td>2411390.67</td>\n",
       "      <td>2541737.10</td>\n",
       "    </tr>\n",
       "    <tr>\n",
       "      <th>43</th>\n",
       "      <td>67084212.43</td>\n",
       "      <td>59327136.31</td>\n",
       "      <td>7757076.12</td>\n",
       "    </tr>\n",
       "  </tbody>\n",
       "</table>\n",
       "</div>"
      ],
      "text/plain": [
       "    VLR_CTRD_CSC  VLR_SDO_DDR    VLR_PAGO\n",
       "6      242311.68    147746.41    94565.27\n",
       "14     837200.00    611460.76   225739.24\n",
       "18    4534094.14   3455692.91  1078401.23\n",
       "19    8318873.55   3872932.36  4445941.19\n",
       "22    1687200.00    471518.18  1215681.82\n",
       "31     322324.54    175493.07   146831.47\n",
       "34    5760952.64   3031500.68  2729451.96\n",
       "37    5288794.11   2470154.82  2818639.29\n",
       "38    4953127.77   2411390.67  2541737.10\n",
       "43   67084212.43  59327136.31  7757076.12"
      ]
     },
     "execution_count": 177,
     "metadata": {},
     "output_type": "execute_result"
    }
   ],
   "source": [
    "# Selecionando somente as linhas com o ID_MDL igual a C01 (consórcio).\n",
    "analisar = dados_STG_OPR_ITT[dados_STG_OPR_ITT['ID_MDL'] == 'C01'] \n",
    "analisar = analisar[['VLR_CTRD_CSC', 'VLR_SDO_DDR']] # Selecionando somente as colunas necessárias.\n",
    "\n",
    "total = [] # Lista temporária.\n",
    "\n",
    "for index in analisar.index: # Efeituando a conta e jogando o resultado na lista.\n",
    "    total.append(round(analisar['VLR_CTRD_CSC'][index] - analisar['VLR_SDO_DDR'][index], 2))\n",
    "\n",
    "    \n",
    "analisar['VLR_PAGO'] = total # Adicionando a lista.\n",
    "analisar.head(10) "
   ]
  },
  {
   "cell_type": "code",
   "execution_count": 178,
   "metadata": {},
   "outputs": [
    {
     "name": "stderr",
     "output_type": "stream",
     "text": [
      "/home/fatality/.local/lib/python3.7/site-packages/ipykernel_launcher.py:9: SettingWithCopyWarning: \n",
      "A value is trying to be set on a copy of a slice from a DataFrame.\n",
      "Try using .loc[row_indexer,col_indexer] = value instead\n",
      "\n",
      "See the caveats in the documentation: https://pandas.pydata.org/pandas-docs/stable/user_guide/indexing.html#returning-a-view-versus-a-copy\n",
      "  if __name__ == '__main__':\n"
     ]
    },
    {
     "data": {
      "text/html": [
       "<div>\n",
       "<style scoped>\n",
       "    .dataframe tbody tr th:only-of-type {\n",
       "        vertical-align: middle;\n",
       "    }\n",
       "\n",
       "    .dataframe tbody tr th {\n",
       "        vertical-align: top;\n",
       "    }\n",
       "\n",
       "    .dataframe thead th {\n",
       "        text-align: right;\n",
       "    }\n",
       "</style>\n",
       "<table border=\"1\" class=\"dataframe\">\n",
       "  <thead>\n",
       "    <tr style=\"text-align: right;\">\n",
       "      <th></th>\n",
       "      <th>VLR_CTRD_CSC</th>\n",
       "      <th>VLR_SDO_DDR</th>\n",
       "      <th>VLR_PAGO</th>\n",
       "    </tr>\n",
       "  </thead>\n",
       "  <tbody>\n",
       "    <tr>\n",
       "      <th>6</th>\n",
       "      <td>242311.68</td>\n",
       "      <td>147746.41</td>\n",
       "      <td>94565.27</td>\n",
       "    </tr>\n",
       "    <tr>\n",
       "      <th>14</th>\n",
       "      <td>837200.00</td>\n",
       "      <td>611460.76</td>\n",
       "      <td>225739.24</td>\n",
       "    </tr>\n",
       "    <tr>\n",
       "      <th>18</th>\n",
       "      <td>4534094.14</td>\n",
       "      <td>3455692.91</td>\n",
       "      <td>1078401.23</td>\n",
       "    </tr>\n",
       "    <tr>\n",
       "      <th>19</th>\n",
       "      <td>8318873.55</td>\n",
       "      <td>3872932.36</td>\n",
       "      <td>4445941.19</td>\n",
       "    </tr>\n",
       "    <tr>\n",
       "      <th>22</th>\n",
       "      <td>1687200.00</td>\n",
       "      <td>471518.18</td>\n",
       "      <td>1215681.82</td>\n",
       "    </tr>\n",
       "    <tr>\n",
       "      <th>31</th>\n",
       "      <td>322324.54</td>\n",
       "      <td>175493.07</td>\n",
       "      <td>146831.47</td>\n",
       "    </tr>\n",
       "    <tr>\n",
       "      <th>34</th>\n",
       "      <td>5760952.64</td>\n",
       "      <td>3031500.68</td>\n",
       "      <td>2729451.96</td>\n",
       "    </tr>\n",
       "    <tr>\n",
       "      <th>37</th>\n",
       "      <td>5288794.11</td>\n",
       "      <td>2470154.82</td>\n",
       "      <td>2818639.29</td>\n",
       "    </tr>\n",
       "    <tr>\n",
       "      <th>38</th>\n",
       "      <td>4953127.77</td>\n",
       "      <td>2411390.67</td>\n",
       "      <td>2541737.10</td>\n",
       "    </tr>\n",
       "    <tr>\n",
       "      <th>43</th>\n",
       "      <td>67084212.43</td>\n",
       "      <td>59327136.31</td>\n",
       "      <td>7757076.12</td>\n",
       "    </tr>\n",
       "  </tbody>\n",
       "</table>\n",
       "</div>"
      ],
      "text/plain": [
       "    VLR_CTRD_CSC  VLR_SDO_DDR    VLR_PAGO\n",
       "6      242311.68    147746.41    94565.27\n",
       "14     837200.00    611460.76   225739.24\n",
       "18    4534094.14   3455692.91  1078401.23\n",
       "19    8318873.55   3872932.36  4445941.19\n",
       "22    1687200.00    471518.18  1215681.82\n",
       "31     322324.54    175493.07   146831.47\n",
       "34    5760952.64   3031500.68  2729451.96\n",
       "37    5288794.11   2470154.82  2818639.29\n",
       "38    4953127.77   2411390.67  2541737.10\n",
       "43   67084212.43  59327136.31  7757076.12"
      ]
     },
     "execution_count": 178,
     "metadata": {},
     "output_type": "execute_result"
    }
   ],
   "source": [
    "analisar = dados_STG_OPR_ITT[['VLR_CTRD_CSC', 'VLR_SDO_DDR']] # Colunas necessárias.\n",
    "\n",
    "total = [] # Lista temporária.\n",
    "\n",
    "for index in range(analisar.shape[0]): # Efeituando a conta e jogando o resultado na lista.\n",
    "    total.append(round(analisar['VLR_CTRD_CSC'][index] - analisar['VLR_SDO_DDR'][index], 2))\n",
    "\n",
    "    \n",
    "analisar['VLR_PAGO'] = total # Adicionando a lista.\n",
    "analisar.dropna().head(10) "
   ]
  },
  {
   "cell_type": "code",
   "execution_count": null,
   "metadata": {},
   "outputs": [],
   "source": []
  }
 ],
 "metadata": {
  "kernelspec": {
   "display_name": "Python 3",
   "language": "python",
   "name": "python3"
  },
  "language_info": {
   "codemirror_mode": {
    "name": "ipython",
    "version": 3
   },
   "file_extension": ".py",
   "mimetype": "text/x-python",
   "name": "python",
   "nbconvert_exporter": "python",
   "pygments_lexer": "ipython3",
   "version": "3.7.5"
  }
 },
 "nbformat": 4,
 "nbformat_minor": 4
}
