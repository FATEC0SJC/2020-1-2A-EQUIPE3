{
  "nbformat": 4,
  "nbformat_minor": 0,
  "metadata": {
    "colab": {
      "name": "Trabalho_FATEC.ipynb",
      "provenance": [],
      "collapsed_sections": []
    },
    "kernelspec": {
      "name": "python3",
      "display_name": "Python 3"
    }
  },
  "cells": [
    {
      "cell_type": "markdown",
      "metadata": {
        "id": "fFZoK1ANvxce",
        "colab_type": "text"
      },
      "source": [
        "# **TRAB**"
      ]
    },
    {
      "cell_type": "code",
      "metadata": {
        "id": "3YXI4D7YP5vr",
        "colab_type": "code",
        "colab": {
          "base_uri": "https://localhost:8080/",
          "height": 72
        },
        "outputId": "dc645ec2-f3e9-4c15-f088-7572136971b6"
      },
      "source": [
        "# Importando as bibliotecas\n",
        "import pandas as pd\n",
        "import matplotlib.pyplot as plt\n",
        "import seaborn as sns"
      ],
      "execution_count": 1,
      "outputs": [
        {
          "output_type": "stream",
          "text": [
            "/usr/local/lib/python3.6/dist-packages/statsmodels/tools/_testing.py:19: FutureWarning: pandas.util.testing is deprecated. Use the functions in the public API at pandas.testing instead.\n",
            "  import pandas.util.testing as tm\n"
          ],
          "name": "stderr"
        }
      ]
    },
    {
      "cell_type": "code",
      "metadata": {
        "id": "TRHPIFZRQuRE",
        "colab_type": "code",
        "colab": {}
      },
      "source": [
        "# Configurando o tamanho padrão dos gráficos\n",
        "plt.rcParams['figure.figsize'] = (11,7)"
      ],
      "execution_count": 0,
      "outputs": []
    },
    {
      "cell_type": "markdown",
      "metadata": {
        "id": "OKoA3V9nv7yd",
        "colab_type": "text"
      },
      "source": [
        "## Parte 4"
      ]
    },
    {
      "cell_type": "code",
      "metadata": {
        "id": "ImKZwdL1Q_4O",
        "colab_type": "code",
        "outputId": "9006c59a-d23d-4f83-8b2c-ba40ebbc91ec",
        "colab": {
          "base_uri": "https://localhost:8080/",
          "height": 281
        }
      },
      "source": [
        "# Carregando os dados necessarios\n",
        "dados_STG_PGT = pd.read_excel('STG_PGT.xlsx')\n",
        "\n",
        "# Exibindo apenas as primeiras linhas\n",
        "dados_STG_PGT.head()"
      ],
      "execution_count": 3,
      "outputs": [
        {
          "output_type": "execute_result",
          "data": {
            "text/html": [
              "<div>\n",
              "<style scoped>\n",
              "    .dataframe tbody tr th:only-of-type {\n",
              "        vertical-align: middle;\n",
              "    }\n",
              "\n",
              "    .dataframe tbody tr th {\n",
              "        vertical-align: top;\n",
              "    }\n",
              "\n",
              "    .dataframe thead th {\n",
              "        text-align: right;\n",
              "    }\n",
              "</style>\n",
              "<table border=\"1\" class=\"dataframe\">\n",
              "  <thead>\n",
              "    <tr style=\"text-align: right;\">\n",
              "      <th></th>\n",
              "      <th>ID_STG_PGT</th>\n",
              "      <th>VLR_PGT_FAT</th>\n",
              "      <th>DAT_VCT</th>\n",
              "      <th>COD_MDL</th>\n",
              "      <th>QTD_CLI_CAD_POS</th>\n",
              "      <th>QTD_PGT</th>\n",
              "      <th>ID_FNT_ITT</th>\n",
              "      <th>DES_TIP_PSS</th>\n",
              "      <th>DAT_RSS_FNT_ITT</th>\n",
              "      <th>DAT_INC_DBO</th>\n",
              "    </tr>\n",
              "  </thead>\n",
              "  <tbody>\n",
              "    <tr>\n",
              "      <th>0</th>\n",
              "      <td>451</td>\n",
              "      <td>515711</td>\n",
              "      <td>16082022</td>\n",
              "      <td>A04</td>\n",
              "      <td>22</td>\n",
              "      <td>22</td>\n",
              "      <td>67</td>\n",
              "      <td>F</td>\n",
              "      <td>2020-01-16</td>\n",
              "      <td>2020-01-17 17:50:42.746</td>\n",
              "    </tr>\n",
              "    <tr>\n",
              "      <th>1</th>\n",
              "      <td>452</td>\n",
              "      <td>60763</td>\n",
              "      <td>26102020</td>\n",
              "      <td>A99</td>\n",
              "      <td>2</td>\n",
              "      <td>2</td>\n",
              "      <td>67</td>\n",
              "      <td>F</td>\n",
              "      <td>2020-01-16</td>\n",
              "      <td>2020-01-17 17:50:42.746</td>\n",
              "    </tr>\n",
              "    <tr>\n",
              "      <th>2</th>\n",
              "      <td>453</td>\n",
              "      <td>8588195</td>\n",
              "      <td>24022019</td>\n",
              "      <td>G01</td>\n",
              "      <td>22</td>\n",
              "      <td>22</td>\n",
              "      <td>67</td>\n",
              "      <td>F</td>\n",
              "      <td>2020-01-16</td>\n",
              "      <td>2020-01-17 17:50:42.746</td>\n",
              "    </tr>\n",
              "    <tr>\n",
              "      <th>3</th>\n",
              "      <td>454</td>\n",
              "      <td>369084</td>\n",
              "      <td>24062018</td>\n",
              "      <td>B99</td>\n",
              "      <td>16</td>\n",
              "      <td>23</td>\n",
              "      <td>67</td>\n",
              "      <td>F</td>\n",
              "      <td>2020-01-16</td>\n",
              "      <td>2020-01-17 17:50:42.746</td>\n",
              "    </tr>\n",
              "    <tr>\n",
              "      <th>4</th>\n",
              "      <td>455</td>\n",
              "      <td>13054</td>\n",
              "      <td>20022021</td>\n",
              "      <td>B99</td>\n",
              "      <td>1</td>\n",
              "      <td>1</td>\n",
              "      <td>67</td>\n",
              "      <td>F</td>\n",
              "      <td>2020-01-16</td>\n",
              "      <td>2020-01-17 17:50:42.746</td>\n",
              "    </tr>\n",
              "  </tbody>\n",
              "</table>\n",
              "</div>"
            ],
            "text/plain": [
              "   ID_STG_PGT  VLR_PGT_FAT  ...  DAT_RSS_FNT_ITT              DAT_INC_DBO\n",
              "0         451       515711  ...       2020-01-16  2020-01-17 17:50:42.746\n",
              "1         452        60763  ...       2020-01-16  2020-01-17 17:50:42.746\n",
              "2         453      8588195  ...       2020-01-16  2020-01-17 17:50:42.746\n",
              "3         454       369084  ...       2020-01-16  2020-01-17 17:50:42.746\n",
              "4         455        13054  ...       2020-01-16  2020-01-17 17:50:42.746\n",
              "\n",
              "[5 rows x 10 columns]"
            ]
          },
          "metadata": {
            "tags": []
          },
          "execution_count": 3
        }
      ]
    },
    {
      "cell_type": "code",
      "metadata": {
        "id": "2MlbWd6USRam",
        "colab_type": "code",
        "outputId": "3bb42211-6595-48ac-c425-bac4c7785b81",
        "colab": {
          "base_uri": "https://localhost:8080/",
          "height": 283
        }
      },
      "source": [
        "dados_STG_PGT['COD_MDL'].value_counts()"
      ],
      "execution_count": 4,
      "outputs": [
        {
          "output_type": "execute_result",
          "data": {
            "text/plain": [
              "A04    3581\n",
              "A01    3260\n",
              "B05    2460\n",
              "B99    2386\n",
              "A99    1126\n",
              "B03     637\n",
              "D01     523\n",
              "A05     503\n",
              "G01     453\n",
              "B07     209\n",
              "B06     125\n",
              "C01      93\n",
              "B01      88\n",
              "F01       2\n",
              "Name: COD_MDL, dtype: int64"
            ]
          },
          "metadata": {
            "tags": []
          },
          "execution_count": 4
        }
      ]
    },
    {
      "cell_type": "code",
      "metadata": {
        "id": "SQeJT7zGShba",
        "colab_type": "code",
        "outputId": "94647ad5-3963-4e0d-fd95-5d2b7640ab87",
        "colab": {
          "base_uri": "https://localhost:8080/",
          "height": 197
        }
      },
      "source": [
        "# Criando um dataframe de código e quantidade de pagamento\n",
        "COD_MDL= pd.DataFrame(dados_STG_PGT['COD_MDL'])\n",
        "QTD_PGT = pd.DataFrame(dados_STG_PGT['QTD_PGT'])\n",
        "codigo_e_quantidades = pd.concat([COD_MDL, QTD_PGT], axis=1, sort=True)\n",
        "codigo_e_quantidades.head()"
      ],
      "execution_count": 5,
      "outputs": [
        {
          "output_type": "execute_result",
          "data": {
            "text/html": [
              "<div>\n",
              "<style scoped>\n",
              "    .dataframe tbody tr th:only-of-type {\n",
              "        vertical-align: middle;\n",
              "    }\n",
              "\n",
              "    .dataframe tbody tr th {\n",
              "        vertical-align: top;\n",
              "    }\n",
              "\n",
              "    .dataframe thead th {\n",
              "        text-align: right;\n",
              "    }\n",
              "</style>\n",
              "<table border=\"1\" class=\"dataframe\">\n",
              "  <thead>\n",
              "    <tr style=\"text-align: right;\">\n",
              "      <th></th>\n",
              "      <th>COD_MDL</th>\n",
              "      <th>QTD_PGT</th>\n",
              "    </tr>\n",
              "  </thead>\n",
              "  <tbody>\n",
              "    <tr>\n",
              "      <th>0</th>\n",
              "      <td>A04</td>\n",
              "      <td>22</td>\n",
              "    </tr>\n",
              "    <tr>\n",
              "      <th>1</th>\n",
              "      <td>A99</td>\n",
              "      <td>2</td>\n",
              "    </tr>\n",
              "    <tr>\n",
              "      <th>2</th>\n",
              "      <td>G01</td>\n",
              "      <td>22</td>\n",
              "    </tr>\n",
              "    <tr>\n",
              "      <th>3</th>\n",
              "      <td>B99</td>\n",
              "      <td>23</td>\n",
              "    </tr>\n",
              "    <tr>\n",
              "      <th>4</th>\n",
              "      <td>B99</td>\n",
              "      <td>1</td>\n",
              "    </tr>\n",
              "  </tbody>\n",
              "</table>\n",
              "</div>"
            ],
            "text/plain": [
              "  COD_MDL  QTD_PGT\n",
              "0     A04       22\n",
              "1     A99        2\n",
              "2     G01       22\n",
              "3     B99       23\n",
              "4     B99        1"
            ]
          },
          "metadata": {
            "tags": []
          },
          "execution_count": 5
        }
      ]
    },
    {
      "cell_type": "code",
      "metadata": {
        "id": "vY-hToBjfyrR",
        "colab_type": "code",
        "colab": {}
      },
      "source": [
        "# Somando a quantidade de pagamento por código\n",
        "A04_SOMA = codigo_e_quantidades.loc[codigo_e_quantidades['COD_MDL'] == \"A04\", 'QTD_PGT'].sum()\n",
        "A01_SOMA = codigo_e_quantidades.loc[codigo_e_quantidades['COD_MDL'] == \"A01\", 'QTD_PGT'].sum()\n",
        "B05_SOMA = codigo_e_quantidades.loc[codigo_e_quantidades['COD_MDL'] == \"B05\", 'QTD_PGT'].sum()\n",
        "B99_SOMA = codigo_e_quantidades.loc[codigo_e_quantidades['COD_MDL'] == \"B99\", 'QTD_PGT'].sum()\n",
        "A99_SOMA = codigo_e_quantidades.loc[codigo_e_quantidades['COD_MDL'] == \"A99\", 'QTD_PGT'].sum()\n",
        "B03_SOMA = codigo_e_quantidades.loc[codigo_e_quantidades['COD_MDL'] == \"B03\", 'QTD_PGT'].sum()\n",
        "D01_SOMA = codigo_e_quantidades.loc[codigo_e_quantidades['COD_MDL'] == \"D01\", 'QTD_PGT'].sum()\n",
        "A05_SOMA = codigo_e_quantidades.loc[codigo_e_quantidades['COD_MDL'] == \"A05\", 'QTD_PGT'].sum()\n",
        "G01_SOMA = codigo_e_quantidades.loc[codigo_e_quantidades['COD_MDL'] == \"G01\", 'QTD_PGT'].sum()\n",
        "B07_SOMA = codigo_e_quantidades.loc[codigo_e_quantidades['COD_MDL'] == \"B07\", 'QTD_PGT'].sum()\n",
        "B06_SOMA = codigo_e_quantidades.loc[codigo_e_quantidades['COD_MDL'] == \"B06\", 'QTD_PGT'].sum()\n",
        "C01_SOMA = codigo_e_quantidades.loc[codigo_e_quantidades['COD_MDL'] == \"C01\", 'QTD_PGT'].sum()\n",
        "B01_SOMA = codigo_e_quantidades.loc[codigo_e_quantidades['COD_MDL'] == \"B01\", 'QTD_PGT'].sum()\n",
        "F01_SOMA = codigo_e_quantidades.loc[codigo_e_quantidades['COD_MDL'] == \"F01\", 'QTD_PGT'].sum()\n",
        "\n",
        "\n"
      ],
      "execution_count": 0,
      "outputs": []
    },
    {
      "cell_type": "code",
      "metadata": {
        "id": "fF8t9fwjh_K4",
        "colab_type": "code",
        "outputId": "a7586173-bd73-408f-aaa5-f4fcde2d2337",
        "colab": {
          "base_uri": "https://localhost:8080/",
          "height": 467
        }
      },
      "source": [
        "# Criando o Dataframe com código e quantidade total\n",
        "dados = {'Codigo': ['A04', 'A01', 'B05', 'B99', 'A99', 'B03', 'D01', 'A05', 'G01', 'B07', 'B06', 'C01', 'B01', 'F01'],\n",
        "        'Quantidade_total': [A04_SOMA, A01_SOMA, B05_SOMA, B99_SOMA, A99_SOMA, B03_SOMA, D01_SOMA, A05_SOMA, G01_SOMA,\n",
        "                  B07_SOMA, B06_SOMA, C01_SOMA, B01_SOMA, F01_SOMA]}\n",
        "\n",
        "codigo_e_quantidade_total = pd.DataFrame(dados, columns=['Codigo', 'Quantidade_total'])\n",
        "codigo_e_quantidade_total"
      ],
      "execution_count": 7,
      "outputs": [
        {
          "output_type": "execute_result",
          "data": {
            "text/html": [
              "<div>\n",
              "<style scoped>\n",
              "    .dataframe tbody tr th:only-of-type {\n",
              "        vertical-align: middle;\n",
              "    }\n",
              "\n",
              "    .dataframe tbody tr th {\n",
              "        vertical-align: top;\n",
              "    }\n",
              "\n",
              "    .dataframe thead th {\n",
              "        text-align: right;\n",
              "    }\n",
              "</style>\n",
              "<table border=\"1\" class=\"dataframe\">\n",
              "  <thead>\n",
              "    <tr style=\"text-align: right;\">\n",
              "      <th></th>\n",
              "      <th>Codigo</th>\n",
              "      <th>Quantidade_total</th>\n",
              "    </tr>\n",
              "  </thead>\n",
              "  <tbody>\n",
              "    <tr>\n",
              "      <th>0</th>\n",
              "      <td>A04</td>\n",
              "      <td>8053886</td>\n",
              "    </tr>\n",
              "    <tr>\n",
              "      <th>1</th>\n",
              "      <td>A01</td>\n",
              "      <td>17905202</td>\n",
              "    </tr>\n",
              "    <tr>\n",
              "      <th>2</th>\n",
              "      <td>B05</td>\n",
              "      <td>1643400</td>\n",
              "    </tr>\n",
              "    <tr>\n",
              "      <th>3</th>\n",
              "      <td>B99</td>\n",
              "      <td>1386207</td>\n",
              "    </tr>\n",
              "    <tr>\n",
              "      <th>4</th>\n",
              "      <td>A99</td>\n",
              "      <td>179288</td>\n",
              "    </tr>\n",
              "    <tr>\n",
              "      <th>5</th>\n",
              "      <td>B03</td>\n",
              "      <td>224608</td>\n",
              "    </tr>\n",
              "    <tr>\n",
              "      <th>6</th>\n",
              "      <td>D01</td>\n",
              "      <td>20706732</td>\n",
              "    </tr>\n",
              "    <tr>\n",
              "      <th>7</th>\n",
              "      <td>A05</td>\n",
              "      <td>30055</td>\n",
              "    </tr>\n",
              "    <tr>\n",
              "      <th>8</th>\n",
              "      <td>G01</td>\n",
              "      <td>59568</td>\n",
              "    </tr>\n",
              "    <tr>\n",
              "      <th>9</th>\n",
              "      <td>B07</td>\n",
              "      <td>296</td>\n",
              "    </tr>\n",
              "    <tr>\n",
              "      <th>10</th>\n",
              "      <td>B06</td>\n",
              "      <td>258</td>\n",
              "    </tr>\n",
              "    <tr>\n",
              "      <th>11</th>\n",
              "      <td>C01</td>\n",
              "      <td>615110</td>\n",
              "    </tr>\n",
              "    <tr>\n",
              "      <th>12</th>\n",
              "      <td>B01</td>\n",
              "      <td>1069</td>\n",
              "    </tr>\n",
              "    <tr>\n",
              "      <th>13</th>\n",
              "      <td>F01</td>\n",
              "      <td>4</td>\n",
              "    </tr>\n",
              "  </tbody>\n",
              "</table>\n",
              "</div>"
            ],
            "text/plain": [
              "   Codigo  Quantidade_total\n",
              "0     A04           8053886\n",
              "1     A01          17905202\n",
              "2     B05           1643400\n",
              "3     B99           1386207\n",
              "4     A99            179288\n",
              "5     B03            224608\n",
              "6     D01          20706732\n",
              "7     A05             30055\n",
              "8     G01             59568\n",
              "9     B07               296\n",
              "10    B06               258\n",
              "11    C01            615110\n",
              "12    B01              1069\n",
              "13    F01                 4"
            ]
          },
          "metadata": {
            "tags": []
          },
          "execution_count": 7
        }
      ]
    },
    {
      "cell_type": "code",
      "metadata": {
        "id": "hYskzfdkkOm8",
        "colab_type": "code",
        "outputId": "c16f5062-aa03-4a24-82b2-85b834a6eeb4",
        "colab": {
          "base_uri": "https://localhost:8080/",
          "height": 471
        }
      },
      "source": [
        "# Plotando o gráfico\n",
        "sns.barplot(x='Codigo', y='Quantidade_total', data=codigo_e_quantidade_total)"
      ],
      "execution_count": 8,
      "outputs": [
        {
          "output_type": "execute_result",
          "data": {
            "text/plain": [
              "<matplotlib.axes._subplots.AxesSubplot at 0x7f3de18e2a58>"
            ]
          },
          "metadata": {
            "tags": []
          },
          "execution_count": 8
        },
        {
          "output_type": "display_data",
          "data": {
            "image/png": "[encoded data removed]",
            "text/plain": [
              "<Figure size 792x504 with 1 Axes>"
            ]
          },
          "metadata": {
            "tags": [],
            "needs_background": "light"
          }
        }
      ]
    },
    {
      "cell_type": "markdown",
      "metadata": {
        "id": "EjCxp2sx1fnS",
        "colab_type": "text"
      },
      "source": [
        "## Parte 2"
      ]
    },
    {
      "cell_type": "code",
      "metadata": {
        "id": "rkLA3guxrfuc",
        "colab_type": "code",
        "outputId": "77d512de-55fc-4c97-d97e-0a716dbdcdef",
        "colab": {
          "base_uri": "https://localhost:8080/",
          "height": 197
        }
      },
      "source": [
        "# Criando um dataframe de código e valor de pagamento\n",
        "COD_MDL= pd.DataFrame(dados_STG_PGT['COD_MDL'])\n",
        "VLR_PGT_FAT = pd.DataFrame(dados_STG_PGT['VLR_PGT_FAT'])\n",
        "codigo_e_valores = pd.concat([COD_MDL, VLR_PGT_FAT], axis=1, sort=True)\n",
        "codigo_e_valores.head()"
      ],
      "execution_count": 9,
      "outputs": [
        {
          "output_type": "execute_result",
          "data": {
            "text/html": [
              "<div>\n",
              "<style scoped>\n",
              "    .dataframe tbody tr th:only-of-type {\n",
              "        vertical-align: middle;\n",
              "    }\n",
              "\n",
              "    .dataframe tbody tr th {\n",
              "        vertical-align: top;\n",
              "    }\n",
              "\n",
              "    .dataframe thead th {\n",
              "        text-align: right;\n",
              "    }\n",
              "</style>\n",
              "<table border=\"1\" class=\"dataframe\">\n",
              "  <thead>\n",
              "    <tr style=\"text-align: right;\">\n",
              "      <th></th>\n",
              "      <th>COD_MDL</th>\n",
              "      <th>VLR_PGT_FAT</th>\n",
              "    </tr>\n",
              "  </thead>\n",
              "  <tbody>\n",
              "    <tr>\n",
              "      <th>0</th>\n",
              "      <td>A04</td>\n",
              "      <td>515711</td>\n",
              "    </tr>\n",
              "    <tr>\n",
              "      <th>1</th>\n",
              "      <td>A99</td>\n",
              "      <td>60763</td>\n",
              "    </tr>\n",
              "    <tr>\n",
              "      <th>2</th>\n",
              "      <td>G01</td>\n",
              "      <td>8588195</td>\n",
              "    </tr>\n",
              "    <tr>\n",
              "      <th>3</th>\n",
              "      <td>B99</td>\n",
              "      <td>369084</td>\n",
              "    </tr>\n",
              "    <tr>\n",
              "      <th>4</th>\n",
              "      <td>B99</td>\n",
              "      <td>13054</td>\n",
              "    </tr>\n",
              "  </tbody>\n",
              "</table>\n",
              "</div>"
            ],
            "text/plain": [
              "  COD_MDL  VLR_PGT_FAT\n",
              "0     A04       515711\n",
              "1     A99        60763\n",
              "2     G01      8588195\n",
              "3     B99       369084\n",
              "4     B99        13054"
            ]
          },
          "metadata": {
            "tags": []
          },
          "execution_count": 9
        }
      ]
    },
    {
      "cell_type": "code",
      "metadata": {
        "id": "XiXfqNhhZOA1",
        "colab_type": "code",
        "colab": {}
      },
      "source": [
        "# Somando o valor total por código\n",
        "\n",
        "A04_VALOR = codigo_e_valores.loc[codigo_e_valores['COD_MDL'] == \"A04\", 'VLR_PGT_FAT'].sum()\n",
        "A01_VALOR = codigo_e_valores.loc[codigo_e_valores['COD_MDL'] == \"A01\", 'VLR_PGT_FAT'].sum()\n",
        "B05_VALOR = codigo_e_valores.loc[codigo_e_valores['COD_MDL'] == \"B05\", 'VLR_PGT_FAT'].sum()\n",
        "B99_VALOR = codigo_e_valores.loc[codigo_e_valores['COD_MDL'] == \"B99\", 'VLR_PGT_FAT'].sum()\n",
        "A99_VALOR = codigo_e_valores.loc[codigo_e_valores['COD_MDL'] == \"A99\", 'VLR_PGT_FAT'].sum()\n",
        "B03_VALOR = codigo_e_valores.loc[codigo_e_valores['COD_MDL'] == \"B03\", 'VLR_PGT_FAT'].sum()\n",
        "D01_VALOR = codigo_e_valores.loc[codigo_e_valores['COD_MDL'] == \"D01\", 'VLR_PGT_FAT'].sum()\n",
        "A05_VALOR = codigo_e_valores.loc[codigo_e_valores['COD_MDL'] == \"A05\", 'VLR_PGT_FAT'].sum()\n",
        "G01_VALOR = codigo_e_valores.loc[codigo_e_valores['COD_MDL'] == \"G01\", 'VLR_PGT_FAT'].sum()\n",
        "B07_VALOR = codigo_e_valores.loc[codigo_e_valores['COD_MDL'] == \"B07\", 'VLR_PGT_FAT'].sum()\n",
        "B06_VALOR = codigo_e_valores.loc[codigo_e_valores['COD_MDL'] == \"B06\", 'VLR_PGT_FAT'].sum()\n",
        "C01_VALOR = codigo_e_valores.loc[codigo_e_valores['COD_MDL'] == \"C01\", 'VLR_PGT_FAT'].sum()\n",
        "B01_VALOR = codigo_e_valores.loc[codigo_e_valores['COD_MDL'] == \"B01\", 'VLR_PGT_FAT'].sum()\n",
        "F01_VALOR = codigo_e_valores.loc[codigo_e_valores['COD_MDL'] == \"F01\", 'VLR_PGT_FAT'].sum()"
      ],
      "execution_count": 0,
      "outputs": []
    },
    {
      "cell_type": "code",
      "metadata": {
        "id": "_QybC3PGvQgD",
        "colab_type": "code",
        "outputId": "736ad60b-e75d-4201-b44a-6d8ff80993f1",
        "colab": {
          "base_uri": "https://localhost:8080/",
          "height": 467
        }
      },
      "source": [
        "# Criando o Dataframe com código e valor total\n",
        "\n",
        "dados = {'Codigo': ['A04', 'A01', 'B05', 'B99', 'A99', 'B03', 'D01', 'A05', 'G01', 'B07', 'B06', 'C01', 'B01', 'F01'],\n",
        "        'Valor_total': [A04_VALOR, A01_VALOR, B05_VALOR, B99_VALOR, A99_VALOR, B03_VALOR, D01_VALOR, A05_VALOR, G01_VALOR,\n",
        "                  B07_VALOR, B06_VALOR, C01_VALOR, B01_VALOR, F01_VALOR]}\n",
        "\n",
        "codigo_e_valor_total = pd.DataFrame(dados, columns=['Codigo', 'Valor_total'])\n",
        "codigo_e_valor_total"
      ],
      "execution_count": 11,
      "outputs": [
        {
          "output_type": "execute_result",
          "data": {
            "text/html": [
              "<div>\n",
              "<style scoped>\n",
              "    .dataframe tbody tr th:only-of-type {\n",
              "        vertical-align: middle;\n",
              "    }\n",
              "\n",
              "    .dataframe tbody tr th {\n",
              "        vertical-align: top;\n",
              "    }\n",
              "\n",
              "    .dataframe thead th {\n",
              "        text-align: right;\n",
              "    }\n",
              "</style>\n",
              "<table border=\"1\" class=\"dataframe\">\n",
              "  <thead>\n",
              "    <tr style=\"text-align: right;\">\n",
              "      <th></th>\n",
              "      <th>Codigo</th>\n",
              "      <th>Valor_total</th>\n",
              "    </tr>\n",
              "  </thead>\n",
              "  <tbody>\n",
              "    <tr>\n",
              "      <th>0</th>\n",
              "      <td>A04</td>\n",
              "      <td>211572857040</td>\n",
              "    </tr>\n",
              "    <tr>\n",
              "      <th>1</th>\n",
              "      <td>A01</td>\n",
              "      <td>330277961771</td>\n",
              "    </tr>\n",
              "    <tr>\n",
              "      <th>2</th>\n",
              "      <td>B05</td>\n",
              "      <td>162585225662</td>\n",
              "    </tr>\n",
              "    <tr>\n",
              "      <th>3</th>\n",
              "      <td>B99</td>\n",
              "      <td>26697066183</td>\n",
              "    </tr>\n",
              "    <tr>\n",
              "      <th>4</th>\n",
              "      <td>A99</td>\n",
              "      <td>1454792086</td>\n",
              "    </tr>\n",
              "    <tr>\n",
              "      <th>5</th>\n",
              "      <td>B03</td>\n",
              "      <td>56809158767</td>\n",
              "    </tr>\n",
              "    <tr>\n",
              "      <th>6</th>\n",
              "      <td>D01</td>\n",
              "      <td>1550227421540</td>\n",
              "    </tr>\n",
              "    <tr>\n",
              "      <th>7</th>\n",
              "      <td>A05</td>\n",
              "      <td>764691146</td>\n",
              "    </tr>\n",
              "    <tr>\n",
              "      <th>8</th>\n",
              "      <td>G01</td>\n",
              "      <td>8284241856</td>\n",
              "    </tr>\n",
              "    <tr>\n",
              "      <th>9</th>\n",
              "      <td>B07</td>\n",
              "      <td>531671867</td>\n",
              "    </tr>\n",
              "    <tr>\n",
              "      <th>10</th>\n",
              "      <td>B06</td>\n",
              "      <td>124725467</td>\n",
              "    </tr>\n",
              "    <tr>\n",
              "      <th>11</th>\n",
              "      <td>C01</td>\n",
              "      <td>41643602777</td>\n",
              "    </tr>\n",
              "    <tr>\n",
              "      <th>12</th>\n",
              "      <td>B01</td>\n",
              "      <td>2961751180</td>\n",
              "    </tr>\n",
              "    <tr>\n",
              "      <th>13</th>\n",
              "      <td>F01</td>\n",
              "      <td>2152813</td>\n",
              "    </tr>\n",
              "  </tbody>\n",
              "</table>\n",
              "</div>"
            ],
            "text/plain": [
              "   Codigo    Valor_total\n",
              "0     A04   211572857040\n",
              "1     A01   330277961771\n",
              "2     B05   162585225662\n",
              "3     B99    26697066183\n",
              "4     A99     1454792086\n",
              "5     B03    56809158767\n",
              "6     D01  1550227421540\n",
              "7     A05      764691146\n",
              "8     G01     8284241856\n",
              "9     B07      531671867\n",
              "10    B06      124725467\n",
              "11    C01    41643602777\n",
              "12    B01     2961751180\n",
              "13    F01        2152813"
            ]
          },
          "metadata": {
            "tags": []
          },
          "execution_count": 11
        }
      ]
    },
    {
      "cell_type": "code",
      "metadata": {
        "id": "usydzELPwJUo",
        "colab_type": "code",
        "outputId": "b53a5530-761d-4547-a0d5-4f74f698a104",
        "colab": {
          "base_uri": "https://localhost:8080/",
          "height": 471
        }
      },
      "source": [
        "# Plotando o gráfico\n",
        "sns.barplot(x='Codigo', y='Valor_total', data=codigo_e_valor_total)"
      ],
      "execution_count": 12,
      "outputs": [
        {
          "output_type": "execute_result",
          "data": {
            "text/plain": [
              "<matplotlib.axes._subplots.AxesSubplot at 0x7f3de17e42e8>"
            ]
          },
          "metadata": {
            "tags": []
          },
          "execution_count": 12
        },
        {
          "output_type": "display_data",
          "data": {
            "image/png": "[encoded data removed]",
            "text/plain": [
              "<Figure size 792x504 with 1 Axes>"
            ]
          },
          "metadata": {
            "tags": [],
            "needs_background": "light"
          }
        }
      ]
    }
  ]
}