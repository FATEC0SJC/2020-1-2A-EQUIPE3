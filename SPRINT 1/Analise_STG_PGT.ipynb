{
 "cells": [
  {
   "cell_type": "markdown",
   "metadata": {},
   "source": [
    "# Análise da tabela STG_PGT"
   ]
  },
  {
   "cell_type": "code",
   "execution_count": 11,
   "metadata": {},
   "outputs": [],
   "source": [
    "# Importando as bibliotecas\n",
    "\n",
    "import pandas as pd\n",
    "import matplotlib.pyplot as plt"
   ]
  },
  {
   "cell_type": "code",
   "execution_count": null,
   "metadata": {},
   "outputs": [],
   "source": [
    "# Configurando o tamanho padrão dos gráficos\n",
    "\n",
    "plt.rcParams['figure.figsize'] = (11,7)"
   ]
  },
  {
   "cell_type": "code",
   "execution_count": 4,
   "metadata": {},
   "outputs": [
    {
     "data": {
      "text/html": [
       "<div>\n",
       "<style scoped>\n",
       "    .dataframe tbody tr th:only-of-type {\n",
       "        vertical-align: middle;\n",
       "    }\n",
       "\n",
       "    .dataframe tbody tr th {\n",
       "        vertical-align: top;\n",
       "    }\n",
       "\n",
       "    .dataframe thead th {\n",
       "        text-align: right;\n",
       "    }\n",
       "</style>\n",
       "<table border=\"1\" class=\"dataframe\">\n",
       "  <thead>\n",
       "    <tr style=\"text-align: right;\">\n",
       "      <th></th>\n",
       "      <th>ID_STG_PGT</th>\n",
       "      <th>VLR_PGT_FAT</th>\n",
       "      <th>DAT_VCT</th>\n",
       "      <th>COD_MDL</th>\n",
       "      <th>QTD_CLI_CAD_POS</th>\n",
       "      <th>QTD_PGT</th>\n",
       "      <th>ID_FNT_ITT</th>\n",
       "      <th>DES_TIP_PSS</th>\n",
       "      <th>DAT_RSS_FNT_ITT</th>\n",
       "      <th>DAT_INC_DBO</th>\n",
       "    </tr>\n",
       "  </thead>\n",
       "  <tbody>\n",
       "    <tr>\n",
       "      <th>0</th>\n",
       "      <td>451</td>\n",
       "      <td>515711</td>\n",
       "      <td>16082022</td>\n",
       "      <td>A04</td>\n",
       "      <td>22</td>\n",
       "      <td>22</td>\n",
       "      <td>67</td>\n",
       "      <td>F</td>\n",
       "      <td>2020-01-16</td>\n",
       "      <td>2020-01-17 17:50:42.746</td>\n",
       "    </tr>\n",
       "    <tr>\n",
       "      <th>1</th>\n",
       "      <td>452</td>\n",
       "      <td>60763</td>\n",
       "      <td>26102020</td>\n",
       "      <td>A99</td>\n",
       "      <td>2</td>\n",
       "      <td>2</td>\n",
       "      <td>67</td>\n",
       "      <td>F</td>\n",
       "      <td>2020-01-16</td>\n",
       "      <td>2020-01-17 17:50:42.746</td>\n",
       "    </tr>\n",
       "    <tr>\n",
       "      <th>2</th>\n",
       "      <td>453</td>\n",
       "      <td>8588195</td>\n",
       "      <td>24022019</td>\n",
       "      <td>G01</td>\n",
       "      <td>22</td>\n",
       "      <td>22</td>\n",
       "      <td>67</td>\n",
       "      <td>F</td>\n",
       "      <td>2020-01-16</td>\n",
       "      <td>2020-01-17 17:50:42.746</td>\n",
       "    </tr>\n",
       "    <tr>\n",
       "      <th>3</th>\n",
       "      <td>454</td>\n",
       "      <td>369084</td>\n",
       "      <td>24062018</td>\n",
       "      <td>B99</td>\n",
       "      <td>16</td>\n",
       "      <td>23</td>\n",
       "      <td>67</td>\n",
       "      <td>F</td>\n",
       "      <td>2020-01-16</td>\n",
       "      <td>2020-01-17 17:50:42.746</td>\n",
       "    </tr>\n",
       "    <tr>\n",
       "      <th>4</th>\n",
       "      <td>455</td>\n",
       "      <td>13054</td>\n",
       "      <td>20022021</td>\n",
       "      <td>B99</td>\n",
       "      <td>1</td>\n",
       "      <td>1</td>\n",
       "      <td>67</td>\n",
       "      <td>F</td>\n",
       "      <td>2020-01-16</td>\n",
       "      <td>2020-01-17 17:50:42.746</td>\n",
       "    </tr>\n",
       "  </tbody>\n",
       "</table>\n",
       "</div>"
      ],
      "text/plain": [
       "   ID_STG_PGT  VLR_PGT_FAT   DAT_VCT COD_MDL  QTD_CLI_CAD_POS  QTD_PGT  \\\n",
       "0         451       515711  16082022     A04               22       22   \n",
       "1         452        60763  26102020     A99                2        2   \n",
       "2         453      8588195  24022019     G01               22       22   \n",
       "3         454       369084  24062018     B99               16       23   \n",
       "4         455        13054  20022021     B99                1        1   \n",
       "\n",
       "   ID_FNT_ITT DES_TIP_PSS DAT_RSS_FNT_ITT              DAT_INC_DBO  \n",
       "0          67           F      2020-01-16  2020-01-17 17:50:42.746  \n",
       "1          67           F      2020-01-16  2020-01-17 17:50:42.746  \n",
       "2          67           F      2020-01-16  2020-01-17 17:50:42.746  \n",
       "3          67           F      2020-01-16  2020-01-17 17:50:42.746  \n",
       "4          67           F      2020-01-16  2020-01-17 17:50:42.746  "
      ]
     },
     "execution_count": 4,
     "metadata": {},
     "output_type": "execute_result"
    }
   ],
   "source": [
    "# Carregando os dados necessarios\n",
    "\n",
    "dados_STG_PGT = pd.read_excel('STG_PGT.xlsx')\n",
    "\n",
    "# Exibindo apenas as primeiras linhas\n",
    "\n",
    "dados_STG_PGT.head()"
   ]
  },
  {
   "cell_type": "code",
   "execution_count": 5,
   "metadata": {},
   "outputs": [
    {
     "data": {
      "text/plain": [
       "F01       2\n",
       "B01      88\n",
       "C01      93\n",
       "B06     125\n",
       "B07     209\n",
       "G01     453\n",
       "A05     503\n",
       "D01     523\n",
       "B03     637\n",
       "A99    1126\n",
       "B99    2386\n",
       "B05    2460\n",
       "A01    3260\n",
       "A04    3581\n",
       "Name: COD_MDL, dtype: int64"
      ]
     },
     "execution_count": 5,
     "metadata": {},
     "output_type": "execute_result"
    }
   ],
   "source": [
    "# Modalidades mais usadas\n",
    "MDL_MaisUsadas = dados_STG_PGT['COD_MDL'].value_counts(ascending = True)\n",
    "MDL_MaisUsadas"
   ]
  },
  {
   "cell_type": "code",
   "execution_count": 36,
   "metadata": {},
   "outputs": [
    {
     "data": {
      "image/png": "[encoded data removed]",
      "text/plain": [
       "<Figure size 792x504 with 1 Axes>"
      ]
     },
     "metadata": {
      "needs_background": "light"
     },
     "output_type": "display_data"
    }
   ],
   "source": [
    "# Criando um grafico para ficar mais visivel\n",
    "# MDL_MaisUsadas.plot.bar()\n",
    "\n",
    "MDL_MaisUsadas.plot.barh();\n",
    "#plt.plot(MDL_MaisUsadas); # Indicando o que vai para o gráfico\n",
    "plt.title(\"Modalidades Mais Usadas\", size=25); # Adicionando um título\n",
    "\n",
    "plt.xlabel('Quantidade', size=15); # Nomeando o eixo X\n",
    "plt.ylabel('Código', size=15); # Nomeando o eixo Y\n",
    "\n",
    "# plt.legend(loc=4) #colocando a legenda no melhor lugar"
   ]
  },
  {
   "cell_type": "code",
   "execution_count": null,
   "metadata": {},
   "outputs": [],
   "source": []
  }
 ],
 "metadata": {
  "kernelspec": {
   "display_name": "Python 3",
   "language": "python",
   "name": "python3"
  },
  "language_info": {
   "codemirror_mode": {
    "name": "ipython",
    "version": 3
   },
   "file_extension": ".py",
   "mimetype": "text/x-python",
   "name": "python",
   "nbconvert_exporter": "python",
   "pygments_lexer": "ipython3",
   "version": "3.7.5"
  }
 },
 "nbformat": 4,
 "nbformat_minor": 4
}
