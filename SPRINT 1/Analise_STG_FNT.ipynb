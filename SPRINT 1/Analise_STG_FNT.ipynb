{
 "cells": [
  {
   "cell_type": "markdown",
   "metadata": {},
   "source": [
    "### Importando as bibliotecas"
   ]
  },
  {
   "cell_type": "code",
   "execution_count": 50,
   "metadata": {},
   "outputs": [],
   "source": [
    "import pandas as pd\n",
    "import matplotlib.pyplot as plt\n",
    "import numpy as np\n",
    "\n",
    "#dataframe do o arquivo .xlsx\n",
    "df = pd.read_excel(\"STG_FNT_ITT.xlsx\")"
   ]
  },
  {
   "cell_type": "markdown",
   "metadata": {},
   "source": [
    "### Exibindo os primeiros valores"
   ]
  },
  {
   "cell_type": "code",
   "execution_count": 51,
   "metadata": {},
   "outputs": [
    {
     "data": {
      "text/html": [
       "<div>\n",
       "<style scoped>\n",
       "    .dataframe tbody tr th:only-of-type {\n",
       "        vertical-align: middle;\n",
       "    }\n",
       "\n",
       "    .dataframe tbody tr th {\n",
       "        vertical-align: top;\n",
       "    }\n",
       "\n",
       "    .dataframe thead th {\n",
       "        text-align: right;\n",
       "    }\n",
       "</style>\n",
       "<table border=\"1\" class=\"dataframe\">\n",
       "  <thead>\n",
       "    <tr style=\"text-align: right;\">\n",
       "      <th></th>\n",
       "      <th>ID_STG_FNT_ITT</th>\n",
       "      <th>NUM_CNPJ</th>\n",
       "      <th>NUM_CMP_CNPJ</th>\n",
       "      <th>NOM_COM</th>\n",
       "      <th>NOM_RAZ_SCL</th>\n",
       "      <th>DAT_INC_DBO</th>\n",
       "    </tr>\n",
       "  </thead>\n",
       "  <tbody>\n",
       "    <tr>\n",
       "      <th>0</th>\n",
       "      <td>137</td>\n",
       "      <td>2427884087</td>\n",
       "      <td>2805</td>\n",
       "      <td>NMN</td>\n",
       "      <td>NMN</td>\n",
       "      <td>2019-12-19 13:43:41.914</td>\n",
       "    </tr>\n",
       "    <tr>\n",
       "      <th>1</th>\n",
       "      <td>183</td>\n",
       "      <td>12182674487</td>\n",
       "      <td>2635</td>\n",
       "      <td>NMN</td>\n",
       "      <td>NMN</td>\n",
       "      <td>2019-12-19 13:43:41.914</td>\n",
       "    </tr>\n",
       "    <tr>\n",
       "      <th>2</th>\n",
       "      <td>197</td>\n",
       "      <td>16167328168</td>\n",
       "      <td>1802</td>\n",
       "      <td>NMN</td>\n",
       "      <td>NMN</td>\n",
       "      <td>2019-12-19 13:43:41.914</td>\n",
       "    </tr>\n",
       "    <tr>\n",
       "      <th>3</th>\n",
       "      <td>267</td>\n",
       "      <td>279925978</td>\n",
       "      <td>2329</td>\n",
       "      <td>NMN</td>\n",
       "      <td>NMN</td>\n",
       "      <td>2019-12-19 13:43:41.914</td>\n",
       "    </tr>\n",
       "    <tr>\n",
       "      <th>4</th>\n",
       "      <td>322</td>\n",
       "      <td>20579036860</td>\n",
       "      <td>2397</td>\n",
       "      <td>NMN</td>\n",
       "      <td>NMN</td>\n",
       "      <td>2019-12-19 13:43:41.914</td>\n",
       "    </tr>\n",
       "  </tbody>\n",
       "</table>\n",
       "</div>"
      ],
      "text/plain": [
       "   ID_STG_FNT_ITT     NUM_CNPJ  NUM_CMP_CNPJ NOM_COM NOM_RAZ_SCL  \\\n",
       "0             137   2427884087          2805     NMN         NMN   \n",
       "1             183  12182674487          2635     NMN         NMN   \n",
       "2             197  16167328168          1802     NMN         NMN   \n",
       "3             267    279925978          2329     NMN         NMN   \n",
       "4             322  20579036860          2397     NMN         NMN   \n",
       "\n",
       "               DAT_INC_DBO  \n",
       "0  2019-12-19 13:43:41.914  \n",
       "1  2019-12-19 13:43:41.914  \n",
       "2  2019-12-19 13:43:41.914  \n",
       "3  2019-12-19 13:43:41.914  \n",
       "4  2019-12-19 13:43:41.914  "
      ]
     },
     "execution_count": 51,
     "metadata": {},
     "output_type": "execute_result"
    }
   ],
   "source": [
    "df.head()"
   ]
  },
  {
   "cell_type": "markdown",
   "metadata": {},
   "source": [
    "#### Calculando a amostra a ser analisada"
   ]
  },
  {
   "cell_type": "code",
   "execution_count": 52,
   "metadata": {},
   "outputs": [],
   "source": [
    "#id_qtd - IDs sempre serão diferentes de vazio\n",
    "id_qtd = df.query('(ID_STG_FNT_ITT != \"\")')['ID_STG_FNT_ITT'].count()"
   ]
  },
  {
   "cell_type": "markdown",
   "metadata": {},
   "source": [
    "#### Convertendo os campos da coluna NUM_CNPJ"
   ]
  },
  {
   "cell_type": "code",
   "execution_count": 53,
   "metadata": {},
   "outputs": [
    {
     "data": {
      "text/plain": [
       "ID_STG_FNT_ITT     int64\n",
       "NUM_CNPJ          object\n",
       "NUM_CMP_CNPJ       int64\n",
       "NOM_COM           object\n",
       "NOM_RAZ_SCL       object\n",
       "DAT_INC_DBO       object\n",
       "dtype: object"
      ]
     },
     "execution_count": 53,
     "metadata": {},
     "output_type": "execute_result"
    }
   ],
   "source": [
    "# para o laço for\n",
    "df.astype({'NUM_CNPJ': 'str'}).dtypes"
   ]
  },
  {
   "cell_type": "markdown",
   "metadata": {},
   "source": [
    "#### Dicionários para consulta futura"
   ]
  },
  {
   "cell_type": "code",
   "execution_count": 54,
   "metadata": {},
   "outputs": [],
   "source": [
    "# validação\n",
    "cnpj_valido, cnpj_nao_valido = [], []\n",
    "\n",
    "# misc.\n",
    "cnpj_mais, cnpj_menos = [], []"
   ]
  },
  {
   "cell_type": "markdown",
   "metadata": {},
   "source": [
    "### Validando os inserts (campos)"
   ]
  },
  {
   "cell_type": "markdown",
   "metadata": {},
   "source": [
    "#### Exatamente 14 caracteres"
   ]
  },
  {
   "cell_type": "code",
   "execution_count": 55,
   "metadata": {},
   "outputs": [],
   "source": [
    "for c in df.NUM_CNPJ:\n",
    "    if len(str(c)) == 10:\n",
    "        cnpj_valido.append(c)\n",
    "    else: cnpj_nao_valido.append(c)"
   ]
  },
  {
   "cell_type": "markdown",
   "metadata": {},
   "source": [
    "#### Mais de 14 caracteres"
   ]
  },
  {
   "cell_type": "code",
   "execution_count": 68,
   "metadata": {},
   "outputs": [],
   "source": [
    "for c in df.NUM_CNPJ:\n",
    "    if len(str(c)) >= 11:\n",
    "        cnpj_mais.append(c)"
   ]
  },
  {
   "cell_type": "markdown",
   "metadata": {},
   "source": [
    "#### Menos de 14 Caracteres"
   ]
  },
  {
   "cell_type": "code",
   "execution_count": 57,
   "metadata": {},
   "outputs": [],
   "source": [
    "for c in df.NUM_CNPJ:\n",
    "    if len(str(c)) <= 9:\n",
    "        cnpj_menos.append(c)"
   ]
  },
  {
   "cell_type": "markdown",
   "metadata": {},
   "source": [
    "### Cálculos para os gráficos"
   ]
  },
  {
   "cell_type": "markdown",
   "metadata": {},
   "source": [
    "#### Calculando as quantidades / porcentagens (válidos e não válidos)"
   ]
  },
  {
   "cell_type": "code",
   "execution_count": 58,
   "metadata": {},
   "outputs": [],
   "source": [
    "#CNPJs válidos\n",
    "op_vld = len(cnpj_valido)\n",
    "vld = (op_vld*100) / id_qtd\n",
    "\n",
    "#CNPJs não válidos\n",
    "op_nvld = len(cnpj_nao_valido)\n",
    "nvld = (op_nvld*100) / id_qtd"
   ]
  },
  {
   "cell_type": "markdown",
   "metadata": {},
   "source": [
    "#### Calculando as quantidades / porcentagens (Caracteres)"
   ]
  },
  {
   "cell_type": "code",
   "execution_count": 88,
   "metadata": {},
   "outputs": [],
   "source": [
    "# +14 Char\n",
    "op_mais14 = len(cnpj_mais)\n",
    "mais_14_char = (op_mais14*100) / id_qtd\n",
    "\n",
    "# -14 Char\n",
    "op_menos14 = len(cnpj_menos)\n",
    "menos_14_char = (op_menos14*100) / id_qtd"
   ]
  },
  {
   "cell_type": "markdown",
   "metadata": {},
   "source": [
    "### Gráfico 01 - CNPJ válido (14 caracteres) "
   ]
  },
  {
   "cell_type": "code",
   "execution_count": 59,
   "metadata": {},
   "outputs": [
    {
     "data": {
      "image/png": "[encoded data removed]",
      "text/plain": [
       "<Figure size 432x288 with 1 Axes>"
      ]
     },
     "metadata": {},
     "output_type": "display_data"
    }
   ],
   "source": [
    "labels = 'Válidos', 'Não válidos'\n",
    "sizes = [vld, nvld]\n",
    "explode = (0, 0.05)\n",
    "\n",
    "fig1, ax1 = plt.subplots()\n",
    "ax1.set_title('CNPJs válidos X CNPJs não válidos')\n",
    "ax1.pie(sizes, explode=explode, labels=labels, autopct='%1.1f%%',\n",
    "        shadow=True, startangle=90)\n",
    "ax1.axis('equal')\n",
    "\n",
    "plt.show()"
   ]
  },
  {
   "cell_type": "markdown",
   "metadata": {},
   "source": [
    "### Gráfico 02 - Qualidade geral"
   ]
  },
  {
   "cell_type": "code",
   "execution_count": 83,
   "metadata": {},
   "outputs": [
    {
     "data": {
      "image/png": "[encoded data removed]",
      "text/plain": [
       "<Figure size 432x288 with 1 Axes>"
      ]
     },
     "metadata": {},
     "output_type": "display_data"
    }
   ],
   "source": [
    "labels = '+14 Caracteres', '-14 Caracteres', '14 Caracteres (Correto)'\n",
    "sizes = [mais_14_char, menos_14_char, vld]\n",
    "explode = (0, 0, 0)\n",
    "\n",
    "fig1, ax1 = plt.subplots()\n",
    "ax1.set_title('Qualidade dos dados - Caracteres CNPJ')\n",
    "ax1.pie(sizes, explode=explode, labels=labels, autopct='%1.1f%%', shadow=True, startangle=90)\n",
    "ax1.axis('equal')\n",
    "\n",
    "plt.show()"
   ]
  }
 ],
 "metadata": {
  "kernelspec": {
   "display_name": "Python 3",
   "language": "python",
   "name": "python3"
  },
  "language_info": {
   "codemirror_mode": {
    "name": "ipython",
    "version": 3
   },
   "file_extension": ".py",
   "mimetype": "text/x-python",
   "name": "python",
   "nbconvert_exporter": "python",
   "pygments_lexer": "ipython3",
   "version": "3.6.0"
  }
 },
 "nbformat": 4,
 "nbformat_minor": 2
}
